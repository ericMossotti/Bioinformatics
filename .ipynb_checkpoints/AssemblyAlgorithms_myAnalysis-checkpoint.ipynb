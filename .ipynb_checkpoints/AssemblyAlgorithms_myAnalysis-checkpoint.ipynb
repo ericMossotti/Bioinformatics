{
 "cells": [
  {
   "cell_type": "code",
   "execution_count": 2,
   "id": "4d7b793a",
   "metadata": {},
   "outputs": [
    {
     "ename": "ModuleNotFoundError",
     "evalue": "No module named 'Py.de_bruijin_ize'",
     "output_type": "error",
     "traceback": [
      "Traceback \u001b[1;36m(most recent call last)\u001b[0m:\n",
      "\u001b[1;36m  Cell \u001b[1;32mIn[2], line 1\u001b[1;36m\n\u001b[1;33m    from Py.de_bruijin_ize import de_bruijin_ize\u001b[1;36m\n",
      "\u001b[1;31mModuleNotFoundError\u001b[0m\u001b[1;31m:\u001b[0m No module named 'Py.de_bruijin_ize'\n"
     ]
    }
   ],
   "source": [
    "from Py.de_bruijin_ize import de_bruijin_ize"
   ]
  },
  {
   "cell_type": "code",
   "execution_count": null,
   "id": "3a34d9dd",
   "metadata": {},
   "outputs": [],
   "source": []
  }
 ],
 "metadata": {
  "kernelspec": {
   "display_name": "Python 3 (Spyder)",
   "language": "python3",
   "name": "python3"
  },
  "language_info": {
   "codemirror_mode": {
    "name": "ipython",
    "version": 3
   },
   "file_extension": ".py",
   "mimetype": "text/x-python",
   "name": "python",
   "nbconvert_exporter": "python",
   "pygments_lexer": "ipython3",
   "version": "3.10.9"
  }
 },
 "nbformat": 4,
 "nbformat_minor": 5
}
