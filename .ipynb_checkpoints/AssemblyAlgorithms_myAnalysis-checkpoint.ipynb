{
 "cells": [
  {
   "cell_type": "code",
   "execution_count": null,
   "id": "4eee602b",
   "metadata": {},
   "outputs": [],
   "source": [
    "from Py.de_bruijn_ize import de_bruijn_ize\n",
    "from Py.pick_maximal_overlap import pick_maximal_overlap\n",
    "from Py.scs import scs\n",
    "from Py.greedy_scs import greedy_scs\n",
    "from Py.visualize_de_bruijn import visualize_de_bruijn\n",
    "from Py.overlap import overlap"
   ]
  },
  {
   "cell_type": "markdown",
   "id": "b3a653f6",
   "metadata": {},
   "source": [
    "#### What is the shortest common superstring? "
   ]
  },
  {
   "cell_type": "code",
   "execution_count": null,
   "id": "1abf96ba",
   "metadata": {},
   "outputs": [],
   "source": [
    "def overlap(a, b, min_length=3):\n",
    "    \"\"\" Return length of longest suffix of 'a' matching\n",
    "        a prefix of 'b' that is at least 'min_length'\n",
    "        characters long.  If no such overlap exists,\n",
    "        return 0. \"\"\"\n",
    "    start = 0  # start all the way at the left\n",
    "    while True:\n",
    "        start = a.find(b[:min_length], start)  # look for b's suffx in a\n",
    "        if start == -1:  # no more occurrences to right\n",
    "            return 0\n",
    "        # found occurrence; check for full suffix/prefix match\n",
    "        if b.startswith(a[start:]):\n",
    "            return len(a)-start\n",
    "        start += 1  # move just past previous match\n"
   ]
  },
  {
   "cell_type": "code",
   "execution_count": null,
   "id": "92bcf991",
   "metadata": {},
   "outputs": [],
   "source": [
    "import itertools\n",
    "\n",
    "def scs(ss):\n",
    "    \n",
    "    \"\"\" Returns shortest common superstring of given\n",
    "        strings, which must be the same length \"\"\"\n",
    "    \n",
    "    shortest_sup = None\n",
    "    \n",
    "    for ssperm in itertools.permutations(ss):\n",
    "        sup = ssperm[0]  # superstring starts as first string\n",
    "        for i in range(len(ss)-1):\n",
    "            # overlap adjacent strings A and B in the permutation\n",
    "            olen = overlap(ssperm[i], ssperm[i+1], min_length=1)\n",
    "            # add non-overlapping portion of B to superstring\n",
    "            sup += ssperm[i+1][olen:]\n",
    "        if shortest_sup is None or len(sup) < len(shortest_sup):\n",
    "            shortest_sup = sup  # found shorter superstring\n",
    "    return shortest_sup  # return shortest"
   ]
  },
  {
   "cell_type": "code",
   "execution_count": null,
   "id": "82371da0",
   "metadata": {},
   "outputs": [],
   "source": [
    "ss = [ \"CCT\", \"CTT\", \"TGC\", \"TGG\", \"GAT\", \"ATT\" ]"
   ]
  },
  {
   "cell_type": "code",
   "execution_count": null,
   "id": "404c9a96",
   "metadata": {},
   "outputs": [],
   "source": [
    "ss = ['ABC', 'BCA', 'CAB']"
   ]
  },
  {
   "cell_type": "code",
   "execution_count": null,
   "id": "a19320c9",
   "metadata": {},
   "outputs": [],
   "source": [
    "?ss"
   ]
  },
  {
   "cell_type": "code",
   "execution_count": null,
   "id": "156ece06",
   "metadata": {},
   "outputs": [],
   "source": [
    "scs ( ss )"
   ]
  },
  {
   "cell_type": "code",
   "execution_count": null,
   "id": "35228aed",
   "metadata": {},
   "outputs": [],
   "source": [
    "print ( \" Length of the scs for the set of strings, ss: \", len ( scs ( ss ) ) )"
   ]
  },
  {
   "cell_type": "markdown",
   "id": "6983bace",
   "metadata": {},
   "source": [
    "#### Is there more than one scs?"
   ]
  },
  {
   "cell_type": "code",
   "execution_count": null,
   "id": "f4cea415",
   "metadata": {},
   "outputs": [],
   "source": [
    "def scsList ( ss ) : \n",
    "    \n",
    "    import itertools\n",
    "\n",
    "    from Py.overlap import overlap\n",
    "\n",
    "    \"\"\" Returns shortest common superstring of given strings,\n",
    "        assuming no string is a strict substring of another \"\"\"\n",
    "\n",
    "    shortest_sup = None\n",
    "\n",
    "    supList = list () # mod\n",
    "\n",
    "    for ssperm in itertools.permutations ( ss ) :\n",
    "\n",
    "        sup = ssperm [ 0 ]\n",
    "\n",
    "        for i in range ( len ( ss ) - 1 ) :\n",
    "\n",
    "            olen = overlap ( ssperm [ i ], ssperm [ i + 1 ], min_length = 1 )\n",
    "\n",
    "            sup += ssperm [ i + 1 ] [ olen : ]\n",
    "\n",
    "\n",
    "        if shortest_sup is None or len ( sup ) < len ( shortest_sup ) :\n",
    "\n",
    "            shortest_sup = sup\n",
    "\n",
    "        supList . append ( sup ) # mod\n",
    "\n",
    "    ## modded rest \n",
    "\n",
    "    scslist = list () \n",
    "\n",
    "    for s in range ( len ( supList ) - 1 ) : \n",
    "\n",
    "        if  not (len ( supList [ s ] ) > len ( shortest_sup ) )  :\n",
    "\n",
    "            scslist . append ( supList [ s ] )\n",
    "    \n",
    "    return scslist"
   ]
  },
  {
   "cell_type": "code",
   "execution_count": null,
   "id": "b694938c",
   "metadata": {},
   "outputs": [],
   "source": [
    "reads = ['ABC', 'BCA', 'CAB']"
   ]
  },
  {
   "cell_type": "code",
   "execution_count": null,
   "id": "a8e1d5b5",
   "metadata": {},
   "outputs": [],
   "source": [
    "reads = [ \"CCT\", \"CTT\", \"TGC\", \"TGG\", \"GAT\", \"ATT\" ]"
   ]
  },
  {
   "cell_type": "code",
   "execution_count": null,
   "id": "9707494e",
   "metadata": {},
   "outputs": [],
   "source": [
    "from Py.geneReader_Q import geneReader_Q\n",
    "\n",
    "filename = \"SeqFiles/ads1_week4_reads.fq\"\n",
    "\n",
    "reads = geneReader_Q ( filename )"
   ]
  },
  {
   "cell_type": "code",
   "execution_count": null,
   "id": "e8f9b387",
   "metadata": {},
   "outputs": [],
   "source": [
    "print ( \"All scs': \", scsList ( reads ) )"
   ]
  },
  {
   "cell_type": "code",
   "execution_count": null,
   "id": "b388530d",
   "metadata": {},
   "outputs": [],
   "source": [
    "print ( \"Count of strings that are tied for the shortest common superstring:\",\n",
    "      len ( scsList ( reads ) ) )"
   ]
  },
  {
   "cell_type": "markdown",
   "id": "3c046b2b",
   "metadata": {},
   "source": [
    "How many A's are there in a fully assembled genome?"
   ]
  },
  {
   "cell_type": "code",
   "execution_count": 12,
   "id": "489a53c5",
   "metadata": {},
   "outputs": [
    {
     "data": {
      "text/plain": [
       "\u001b[1;31mType:\u001b[0m        list\n",
       "\u001b[1;31mString form:\u001b[0m ['GTCCAGCAGAGCAAGTGATGCGAGAGCTGCCCATCCTCCAACCAGCATGCCCCTAGACATTGACACTGCATCGGAGTCAGGCCAAGATCCGCAGG <...> CGTTAGTGCAAGGGGACAATCAGACCATAGCCGTAACAAAAAGGGTACCCAGCACATGGCCTTACAACCTTAAGAAACGGGAAGCTGCTAGAGTA']\n",
       "\u001b[1;31mLength:\u001b[0m      1881\n",
       "\u001b[1;31mDocstring:\u001b[0m  \n",
       "Built-in mutable sequence.\n",
       "\n",
       "If no argument is given, the constructor creates a new empty list.\n",
       "The argument must be an iterable if specified."
      ]
     },
     "metadata": {},
     "output_type": "display_data"
    }
   ],
   "source": [
    "from Py.geneReader_Q import geneReader_Q\n",
    "\n",
    "filename = \"SeqFiles/ads1_week4_reads.fq\"\n",
    "\n",
    "reads = geneReader_Q ( filename )\n",
    "\n",
    "?reads"
   ]
  },
  {
   "cell_type": "code",
   "execution_count": null,
   "id": "f30ebca4",
   "metadata": {},
   "outputs": [],
   "source": [
    "from itertools import permutations\n",
    "from Py.overlap import overlap\n",
    "\n",
    "def pick_maximal_overlap ( reads, k ) :\n",
    "    \n",
    "    \"\"\" Return a pair of reads from the list with a\n",
    "        maximal suffix/prefix overlap >= k.  Returns\n",
    "        overlap length 0 if there are no such overlaps.\"\"\"\n",
    "        \n",
    "    reada, readb = None, None\n",
    "    \n",
    "    best_olen = 0\n",
    "    \n",
    "    for a, b in permutations ( reads, 2 ) :\n",
    "        \n",
    "        olen = overlap ( a, b, min_length = k )\n",
    "        \n",
    "        if olen > best_olen :\n",
    "            \n",
    "            reada, readb = a, b\n",
    "            \n",
    "            best_olen = olen\n",
    "            \n",
    "    return reada, readb, best_olen"
   ]
  },
  {
   "cell_type": "code",
   "execution_count": null,
   "id": "28d966cc",
   "metadata": {},
   "outputs": [],
   "source": []
  },
  {
   "cell_type": "code",
   "execution_count": null,
   "id": "08c3ac0e",
   "metadata": {},
   "outputs": [],
   "source": []
  },
  {
   "cell_type": "code",
   "execution_count": null,
   "id": "aff4c3f6",
   "metadata": {},
   "outputs": [],
   "source": [
    "from collections import defaultdict\n",
    "\n",
    "kmerDict = defaultdict ( set )\n",
    "\n",
    "reads = [ \"CCT\", \"CTT\", \"TGC\", \"TGG\", \"GAT\", \"ATT\" ]\n",
    "\n",
    "k = 3\n",
    "\n",
    "for read in reads : \n",
    "    \n",
    "    for i in range ( 0, len ( read ) - k + 1 ) :\n",
    "        \n",
    "        kmerDict [ read [ i : i + k ] ] . add ( read )\n",
    "        \n",
    "?kmerDict        "
   ]
  },
  {
   "cell_type": "code",
   "execution_count": null,
   "id": "0516e6bf",
   "metadata": {},
   "outputs": [],
   "source": [
    "%%time\n",
    "\n",
    "greedy_scs ( kmerDict, k )"
   ]
  },
  {
   "cell_type": "code",
   "execution_count": null,
   "id": "ba69876d",
   "metadata": {},
   "outputs": [],
   "source": []
  },
  {
   "cell_type": "code",
   "execution_count": null,
   "id": "9b385263",
   "metadata": {},
   "outputs": [],
   "source": []
  },
  {
   "cell_type": "code",
   "execution_count": null,
   "id": "aa5a95ce",
   "metadata": {},
   "outputs": [],
   "source": [
    "reads = [ \"CCT\", \"CTT\", \"TGC\", \"TGG\", \"GAT\", \"ATT\" ]\n",
    "\n",
    "k = 2"
   ]
  },
  {
   "cell_type": "code",
   "execution_count": null,
   "id": "d8656feb",
   "metadata": {},
   "outputs": [],
   "source": [
    "pick_maximal_overlap ( reads, k )"
   ]
  },
  {
   "cell_type": "code",
   "execution_count": null,
   "id": "e8342b9c",
   "metadata": {},
   "outputs": [],
   "source": []
  },
  {
   "cell_type": "code",
   "execution_count": null,
   "id": "a4d8f436",
   "metadata": {},
   "outputs": [],
   "source": []
  },
  {
   "cell_type": "code",
   "execution_count": 14,
   "id": "496c418a",
   "metadata": {},
   "outputs": [],
   "source": [
    "\n",
    "def greedy_scs ( reads, k ) :\n",
    "    \n",
    "    \"\"\" Greedy shortest-common-superstring merge.\n",
    "        Repeat until no edges (overlaps of length >= k)\n",
    "        remain. \"\"\"\n",
    "        \n",
    "    read_a, read_b, olen = pick_maximal_overlap ( reads, k )\n",
    "    \n",
    "    while olen > 0 :\n",
    "        \n",
    "        reads . remove ( read_a )\n",
    "        \n",
    "        reads . remove ( read_b )\n",
    "        \n",
    "        reads . append ( read_a + read_b [ olen : ] )\n",
    "        \n",
    "        read_a, read_b, olen = pick_maximal_overlap ( reads, k )\n",
    "        \n",
    "    return '' . join ( reads )"
   ]
  },
  {
   "cell_type": "code",
   "execution_count": 15,
   "id": "3a54ad65",
   "metadata": {},
   "outputs": [
    {
     "ename": "KeyboardInterrupt",
     "evalue": "",
     "output_type": "error",
     "traceback": [
      "Traceback \u001b[1;36m(most recent call last)\u001b[0m:\n",
      "\u001b[0m  File \u001b[0;32m<timed exec>:1\u001b[0m\n",
      "\u001b[0m  Cell \u001b[0;32mIn[14], line 17\u001b[0m in \u001b[0;35mgreedy_scs\u001b[0m\n    read_a, read_b, olen = pick_maximal_overlap ( reads, k )\u001b[0m\n",
      "\u001b[1;36m  Cell \u001b[1;32mIn[13], line 16\u001b[1;36m in \u001b[1;35mpick_maximal_overlap\u001b[1;36m\n\u001b[1;33m    olen = overlap ( a, b, min_length = k )\u001b[1;36m\n",
      "\u001b[1;31mKeyboardInterrupt\u001b[0m\n"
     ]
    }
   ],
   "source": [
    "%%time\n",
    "\n",
    "wholegenes = greedy_scs ( reads, k = 30 )\n",
    "\n"
   ]
  },
  {
   "cell_type": "code",
   "execution_count": null,
   "id": "1110cd85",
   "metadata": {},
   "outputs": [],
   "source": [
    "# 15,894 is the actual length of genome\n",
    "\n",
    "len(wholegenes)"
   ]
  },
  {
   "cell_type": "code",
   "execution_count": null,
   "id": "4e06a6dc",
   "metadata": {},
   "outputs": [],
   "source": []
  },
  {
   "cell_type": "code",
   "execution_count": null,
   "id": "de8d5826",
   "metadata": {},
   "outputs": [],
   "source": []
  },
  {
   "cell_type": "code",
   "execution_count": null,
   "id": "e38e39e6",
   "metadata": {},
   "outputs": [],
   "source": []
  },
  {
   "cell_type": "code",
   "execution_count": null,
   "id": "cc341a7d",
   "metadata": {},
   "outputs": [],
   "source": [
    "from Py.geneReader_Q import geneReader_Q\n",
    "\n",
    "filename = \"SeqFiles/ads1_week4_reads.fq\"\n",
    "\n",
    "reads = geneReader_Q ( filename )"
   ]
  },
  {
   "cell_type": "code",
   "execution_count": 17,
   "id": "a9ca3ebb",
   "metadata": {},
   "outputs": [
    {
     "data": {
      "text/plain": [
       "\u001b[1;31mType:\u001b[0m        defaultdict\n",
       "\u001b[1;31mString form:\u001b[0m defaultdict(<class 'set'>, {'GTCCAGCAGAGCAAGTGATGCGAGAGCTGC': {'GAGAAGCCAGGGAGAGCTACAGAGAAACCGGGT <...> ACAACCCAGGACAGGACCGAGCCACCTGCAAGGAAGAGGAGGCAGGCAGTTCGGGTCTCAGCAAACCATGCCTCTCAGCAATTGGATCAACTG'}})\n",
       "\u001b[1;31mLength:\u001b[0m      15865\n",
       "\u001b[1;31mFile:\u001b[0m        c:\\users\\ecmos\\anaconda3\\lib\\collections\\__init__.py\n",
       "\u001b[1;31mDocstring:\u001b[0m  \n",
       "defaultdict(default_factory[, ...]) --> dict with default factory\n",
       "\n",
       "The default factory is called without arguments to produce\n",
       "a new value when a key is not present, in __getitem__ only.\n",
       "A defaultdict compares equal to a dict with the same items.\n",
       "All remaining arguments are treated the same as if they were\n",
       "passed to the dict constructor, including keyword arguments."
      ]
     },
     "metadata": {},
     "output_type": "display_data"
    }
   ],
   "source": [
    "from collections import defaultdict\n",
    "\n",
    "kmerDict = defaultdict ( set )\n",
    "\n",
    "k = 30\n",
    "\n",
    "for read in reads : \n",
    "    \n",
    "    for i in range ( 0, len ( read ) - k + 1 ) :\n",
    "        \n",
    "        kmerDict [ read [ i : i + k ] ] . add ( read )\n",
    "        \n",
    "?kmerDict"
   ]
  },
  {
   "cell_type": "code",
   "execution_count": 13,
   "id": "9b4ef941",
   "metadata": {},
   "outputs": [],
   "source": [
    "from itertools import permutations\n",
    "\n",
    "from Py.overlap import overlap\n",
    "\n",
    "from collections import defaultdict\n",
    "\n",
    "\n",
    "def pick_maximal_overlap ( reads, k = 30 ) :\n",
    "    \n",
    "    \"\"\" Return a pair of reads from the list with a\n",
    "        maximal suffix/prefix overlap >= k.  Returns\n",
    "        overlap length 0 if there are no such overlaps.\"\"\"\n",
    "        \n",
    "   # a, b = None, None\n",
    "    \n",
    "  #  best_olen = 0\n",
    "    \n",
    "    ###\n",
    "    \n",
    "\n",
    "    kmerDict = defaultdict ( set )\n",
    "\n",
    "    for read in reads : \n",
    "\n",
    "        for i in range ( 0, len ( read ) - k + 1 ) :\n",
    "\n",
    "            kmerDict [ read [ i : i + k ] ] . add ( read )\n",
    "            \n",
    "    #####      \n",
    "            \n",
    "    pairs = []\n",
    "    \n",
    "    for a in reads : \n",
    "\n",
    "        asfx = a [ - k : ]\n",
    "\n",
    "        for b in kmerDict [ asfx ] :\n",
    "\n",
    "            if ( b != a ) : \n",
    "\n",
    "                olen = overlap ( a, b, k )\n",
    "\n",
    "                if ( olen >= k ) :\n",
    "\n",
    "                    return a, b, olen\n",
    "\n",
    "    \n",
    "    ###\n",
    "    \n",
    "    \"\"\"\n",
    "    \n",
    "    for a, b in permutations ( reads, 2 ) :\n",
    "        \n",
    "        olen = overlap ( a, b, min_length = k )\n",
    "        \n",
    "        if olen > best_olen :\n",
    "            \n",
    "            reada, readb = a, b\n",
    "            \n",
    "            best_olen = olen\n",
    "            \n",
    "    \"\"\"\n",
    "        "
   ]
  },
  {
   "cell_type": "code",
   "execution_count": null,
   "id": "2a8d191f",
   "metadata": {},
   "outputs": [],
   "source": []
  },
  {
   "cell_type": "code",
   "execution_count": null,
   "id": "a2d883cb",
   "metadata": {},
   "outputs": [],
   "source": []
  }
 ],
 "metadata": {
  "kernelspec": {
   "display_name": "Python 3 (Spyder)",
   "language": "python3",
   "name": "python3"
  },
  "language_info": {
   "codemirror_mode": {
    "name": "ipython",
    "version": 3
   },
   "file_extension": ".py",
   "mimetype": "text/x-python",
   "name": "python",
   "nbconvert_exporter": "python",
   "pygments_lexer": "ipython3",
   "version": "3.8.8"
  }
 },
 "nbformat": 4,
 "nbformat_minor": 5
}
