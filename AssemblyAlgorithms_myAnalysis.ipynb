{
 "cells": [
  {
   "cell_type": "markdown",
   "id": "8dfc0437",
   "metadata": {},
   "source": [
    "# Assembly Algorithms: My Analysis"
   ]
  },
  {
   "cell_type": "code",
   "execution_count": null,
   "id": "f1f25c20",
   "metadata": {},
   "outputs": [],
   "source": [
    "from Py.overlap import overlap\n",
    "\n",
    "from Py.de_bruijn_ize import de_bruijn_ize\n",
    "\n",
    "#from Py.pick_maximal_overlap import pick_maximal_overlap\n",
    "\n",
    "#from Py.scs import scs\n",
    "\n",
    "#from Py.greedy_scs import greedy_scs\n",
    "\n",
    "from Py.visualize_de_bruijn import visualize_de_bruijn"
   ]
  },
  {
   "cell_type": "markdown",
   "id": "521c8850",
   "metadata": {},
   "source": [
    "#### What is the shortest common superstring? "
   ]
  },
  {
   "cell_type": "code",
   "execution_count": null,
   "id": "f49f0018",
   "metadata": {},
   "outputs": [],
   "source": [
    "from itertools import permutations\n",
    "\n",
    "\"\"\" aka, the BRUTE FORCE VERSION \"\"\"\n",
    "\n",
    "\"\"\" Returns shortest common superstring of given\n",
    "    strings, which must be the same length \"\"\"\n",
    "\n",
    "def scs ( ss ) :\n",
    "    \n",
    "    shortest_sup = None\n",
    "    \n",
    "    for ssperm in permutations ( ss ) :\n",
    "        \n",
    "        sup = ssperm [ 0 ]  # superstring starts as first string\n",
    "        \n",
    "        for i in range ( len ( ss ) - 1 ) :\n",
    "            \n",
    "            # overlap adjacent strings A and B in the permutation\n",
    "            \n",
    "            olen = overlap ( ssperm [ i ], ssperm [ i + 1 ], min_length = 1 )\n",
    "            \n",
    "            # add non-overlapping portion of B to superstring\n",
    "            \n",
    "            sup += ssperm [ i + 1 ] [olen : ]\n",
    "            \n",
    "        if shortest_sup is None or len ( sup ) < len ( shortest_sup ) :\n",
    "            \n",
    "            shortest_sup = sup  # found shorter superstring\n",
    "            \n",
    "    return shortest_sup  # return shortest"
   ]
  },
  {
   "cell_type": "code",
   "execution_count": null,
   "id": "229bbeb6",
   "metadata": {},
   "outputs": [],
   "source": [
    "ss = [ \"CCT\", \"CTT\", \"TGC\", \"TGG\", \"GAT\", \"ATT\" ]"
   ]
  },
  {
   "cell_type": "code",
   "execution_count": null,
   "id": "45e811a1",
   "metadata": {},
   "outputs": [],
   "source": [
    "ss = ['ABC', 'BCA', 'CAB']"
   ]
  },
  {
   "cell_type": "code",
   "execution_count": null,
   "id": "b4b5ccaf",
   "metadata": {},
   "outputs": [],
   "source": [
    "?ss"
   ]
  },
  {
   "cell_type": "code",
   "execution_count": null,
   "id": "145f1772",
   "metadata": {},
   "outputs": [],
   "source": [
    "scs ( ss )"
   ]
  },
  {
   "cell_type": "code",
   "execution_count": null,
   "id": "f24fb873",
   "metadata": {},
   "outputs": [],
   "source": [
    "print ( \"Length of the scs for the set of strings, ss: \", len ( scs ( ss ) ) )"
   ]
  },
  {
   "cell_type": "markdown",
   "id": "8cf54782",
   "metadata": {},
   "source": [
    "#### Is there more than one scs?"
   ]
  },
  {
   "cell_type": "code",
   "execution_count": null,
   "id": "f12cdeac",
   "metadata": {},
   "outputs": [],
   "source": [
    "\n",
    "\"\"\" LIST VERSION OF SCS ( ) - BRUTE FORCE \"\"\"\n",
    "\n",
    "def scsList ( ss ) : \n",
    "    \n",
    "    import itertools\n",
    "\n",
    "    from Py.overlap import overlap\n",
    "\n",
    "    \"\"\" Returns shortest common superstring of given strings,\n",
    "        assuming no string is a strict substring of another \"\"\"\n",
    "\n",
    "    shortest_sup = None\n",
    "\n",
    "    supList = list () # mod\n",
    "\n",
    "    for ssperm in itertools.permutations ( ss ) :\n",
    "\n",
    "        sup = ssperm [ 0 ]\n",
    "\n",
    "        for i in range ( len ( ss ) - 1 ) :\n",
    "\n",
    "            olen = overlap ( ssperm [ i ], ssperm [ i + 1 ], min_length = 1 )\n",
    "\n",
    "            sup += ssperm [ i + 1 ] [ olen : ]\n",
    "\n",
    "\n",
    "        if shortest_sup is None or len ( sup ) < len ( shortest_sup ) :\n",
    "\n",
    "            shortest_sup = sup\n",
    "\n",
    "        supList . append ( sup ) # mod\n",
    "\n",
    "    ## modded rest \n",
    "\n",
    "    scslist = list () \n",
    "\n",
    "    for s in range ( len ( supList ) - 1 ) : \n",
    "\n",
    "        if  not ( len ( supList [ s ] ) > len ( shortest_sup ) )  :\n",
    "\n",
    "            scslist . append ( supList [ s ] )\n",
    "    \n",
    "    return scslist"
   ]
  },
  {
   "cell_type": "code",
   "execution_count": null,
   "id": "d20320d0",
   "metadata": {},
   "outputs": [],
   "source": [
    "reads = ['ABC', 'BCA', 'CAB']"
   ]
  },
  {
   "cell_type": "code",
   "execution_count": null,
   "id": "96f5226c",
   "metadata": {},
   "outputs": [],
   "source": [
    "reads = [ \"CCT\", \"CTT\", \"TGC\", \"TGG\", \"GAT\", \"ATT\" ]"
   ]
  },
  {
   "cell_type": "code",
   "execution_count": null,
   "id": "5bf571fc",
   "metadata": {},
   "outputs": [],
   "source": [
    "from Py.geneReader_Q import geneReader_Q\n",
    "\n",
    "filename = \"SeqFiles/ads1_week4_reads.fq\"\n",
    "\n",
    "reads = geneReader_Q ( filename )"
   ]
  },
  {
   "cell_type": "code",
   "execution_count": null,
   "id": "23dafac0",
   "metadata": {},
   "outputs": [],
   "source": [
    "print ( \"All scs' in a fully assembled genome: \", scsList ( reads ) )"
   ]
  },
  {
   "cell_type": "code",
   "execution_count": null,
   "id": "42e8f445",
   "metadata": {},
   "outputs": [],
   "source": [
    "print ( \"Count of strings that are tied for the shortest common superstring:\",\n",
    "      len ( scsList ( reads ) ) )"
   ]
  },
  {
   "cell_type": "markdown",
   "id": "029ce0e0",
   "metadata": {},
   "source": [
    "### How many A's are there in a fully assembled genome?"
   ]
  },
  {
   "cell_type": "code",
   "execution_count": null,
   "id": "bb607f95",
   "metadata": {},
   "outputs": [],
   "source": [
    "from itertools import permutations\n",
    "from Py.overlap import overlap\n",
    "\n",
    "\n",
    "\"\"\"\"This is a helper function for the greedy_scs() function\"\"\"\n",
    "\n",
    "\"\"\" UNMODIFIED \"\"\"\n",
    "\n",
    "def pick_maximal_overlap ( reads, k ) :\n",
    "    \n",
    "    \"\"\" Return a pair of reads from the list with a\n",
    "        maximal suffix/prefix overlap >= k.  Returns\n",
    "        overlap length 0 if there are no such overlaps.\"\"\"\n",
    "        \n",
    "    reada, readb = None, None\n",
    "    \n",
    "    best_olen = 0\n",
    "    \n",
    "    for a, b in permutations ( reads, 2 ) :\n",
    "                    \n",
    "        olen = overlap ( a, b, min_length = k )\n",
    "\n",
    "        if olen > best_olen :\n",
    "\n",
    "            reada, readb = a, b\n",
    "\n",
    "            best_olen = olen\n",
    "\n",
    "    return reada, readb, best_olen"
   ]
  },
  {
   "cell_type": "code",
   "execution_count": null,
   "id": "072dc540",
   "metadata": {},
   "outputs": [],
   "source": [
    "from collections import defaultdict\n",
    "\n",
    "def kmerdict ( reads, k ) :\n",
    "    \n",
    "    kdict = defaultdict ( set )\n",
    "\n",
    "    for read in reads : \n",
    "\n",
    "        for i in range ( 0, len ( read ) - k + 1 ) :\n",
    "\n",
    "            kdict [ read [ i : i + k ] ] . add ( read )\n",
    "\n",
    "    return kdict"
   ]
  },
  {
   "cell_type": "code",
   "execution_count": null,
   "id": "42279f94",
   "metadata": {},
   "outputs": [],
   "source": [
    "def greedy_scs ( reads, k ) :\n",
    "    \n",
    "    \"\"\" Greedy shortest-common-superstring merge.\n",
    "        Repeat until no edges (overlaps of length >= k)\n",
    "        remain. \"\"\"\n",
    "        \n",
    "    read_a, read_b, olen = pick_maximal_overlap ( reads, k )\n",
    "    \n",
    "    while olen > 0 :\n",
    "        \n",
    "        reads . remove ( read_a )\n",
    "        \n",
    "        reads . remove ( read_b )\n",
    "        \n",
    "        reads . append ( read_a + read_b [ olen : ] )\n",
    "        \n",
    "        read_a, read_b, olen = pick_maximal_overlap ( reads, k )\n",
    "        \n",
    "    return '' . join ( reads )"
   ]
  },
  {
   "cell_type": "code",
   "execution_count": null,
   "id": "ef68a5fb",
   "metadata": {},
   "outputs": [],
   "source": [
    "from itertools import permutations\n",
    "from Py.overlap import overlap\n",
    "\n",
    "\n",
    "\"\"\"\"This is a helper function for the greedy_scs() function\"\"\"\n",
    "\n",
    "\"\"\" MODIFIED VERSION \"\"\"\n",
    "\n",
    "def pick_maximal_overlap_faster ( reads, k ) :\n",
    "    \n",
    "    \"\"\" Return a pair of reads from the list with a\n",
    "        maximal suffix/prefix overlap >= k.  Returns\n",
    "        overlap length 0 if there are no such overlaps.\"\"\"\n",
    "        \n",
    "    reada, readb = None, None\n",
    "    \n",
    "    best_olen = 0\n",
    "    \n",
    "    kmers = kmerdict ( reads, k )#\n",
    "    \n",
    "    for a in reads : #\n",
    "            \n",
    "        asfx = a [ - k : ]#\n",
    "\n",
    "        for b in kmers [ asfx ] :#\n",
    "\n",
    "            if ( b != a ) : #\n",
    "            \n",
    "                olen = overlap ( a, b, min_length = k )\n",
    "\n",
    "                if olen >= best_olen :#\n",
    "\n",
    "                    reada, readb = a, b\n",
    "\n",
    "                    best_olen = olen\n",
    "\n",
    "    return reada, readb, best_olen"
   ]
  },
  {
   "cell_type": "code",
   "execution_count": null,
   "id": "a3e77b35",
   "metadata": {},
   "outputs": [],
   "source": [
    "def greedy_scs_faster ( reads, k ) :\n",
    "    \n",
    "    \"\"\" Greedy shortest-common-superstring merge.\n",
    "        Repeat until no edges (overlaps of length >= k)\n",
    "        remain. \"\"\"\n",
    "        \n",
    "    \"\"\" ( slightly ) MODIFIED VERSION \"\"\"\n",
    "    \n",
    "    read_a, read_b, olen = pick_maximal_overlap ( reads, k )\n",
    "    \n",
    "    while olen > 0 :\n",
    "        \n",
    "        reads . remove ( read_a )\n",
    "        \n",
    "        reads . remove ( read_b )\n",
    "        \n",
    "        reads . append ( read_a + read_b [ olen : ] )\n",
    "        \n",
    "        read_a, read_b, olen = pick_maximal_overlap_faster ( reads, k ) # mod\n",
    "        \n",
    "    return '' . join ( reads )"
   ]
  },
  {
   "cell_type": "code",
   "execution_count": null,
   "id": "9e17f767",
   "metadata": {},
   "outputs": [],
   "source": [
    "%%time \n",
    "\n",
    "reads = ['GAT', 'TAG', 'TCG', 'TGC', 'AAT', 'ATA']\n",
    "\n",
    "res = greedy_scs ( reads , k = 2 )\n",
    "\n",
    "res, len ( res )"
   ]
  },
  {
   "cell_type": "code",
   "execution_count": null,
   "id": "bcd7dfa3",
   "metadata": {},
   "outputs": [],
   "source": [
    "%%time \n",
    "\n",
    "reads = ['GAT', 'TAG', 'TCG', 'TGC', 'AAT', 'ATA']\n",
    "\n",
    "res = greedy_scs_faster ( reads , k = 2 )\n",
    "\n",
    "res, len ( res )"
   ]
  },
  {
   "cell_type": "code",
   "execution_count": null,
   "id": "679e55c9",
   "metadata": {},
   "outputs": [],
   "source": [
    "%%time\n",
    "\n",
    "from Py.geneReader_Q import geneReader_Q\n",
    "\n",
    "filename = \"SeqFiles/ads1_week4_reads.fq\"\n",
    "\n",
    "reads = geneReader_Q ( filename )\n",
    "\n",
    "res = greedy_scs ( reads , k = 30 )\n",
    "\n",
    "res, len ( res )"
   ]
  },
  {
   "cell_type": "code",
   "execution_count": null,
   "id": "47ae7e7f",
   "metadata": {},
   "outputs": [],
   "source": [
    "res.count(\"A\")"
   ]
  },
  {
   "cell_type": "code",
   "execution_count": null,
   "id": "225bbc34",
   "metadata": {},
   "outputs": [],
   "source": [
    "res.count(\"T\")"
   ]
  },
  {
   "cell_type": "code",
   "execution_count": null,
   "id": "01149983",
   "metadata": {},
   "outputs": [],
   "source": [
    "from itertools import permutations\n",
    "\n",
    "def scs ( ss ) :\n",
    "    \n",
    "    \"\"\" Returns shortest common superstring of given strings,\n",
    "        assuming no string is a strict substring of another \"\"\"\n",
    "    \n",
    "        \n",
    "    shortest_sup = None\n",
    "    \n",
    "    for ssperm in permutations ( ss ) :\n",
    "        \n",
    "        sup = ssperm [ 0 ]\n",
    "        \n",
    "        for i in range ( len ( ss ) - 1 ) :\n",
    "            \n",
    "            olen = overlap ( ssperm [ i ], ssperm [ i + 1 ], min_length = 1 )\n",
    "            \n",
    "            sup += ssperm [ i + 1 ] [ olen : ]\n",
    "            \n",
    "        if shortest_sup is None or len ( sup ) < len ( shortest_sup ) :\n",
    "            \n",
    "            shortest_sup = sup\n",
    "        \n",
    "        print ( shortest_sup )\n",
    "            \n",
    "    return shortest_sup"
   ]
  },
  {
   "cell_type": "code",
   "execution_count": null,
   "id": "ae5e6424",
   "metadata": {},
   "outputs": [],
   "source": [
    "reads = ['GAT', 'TAG', 'TCG', 'TGC', 'AAT', 'ATA']\n",
    "\n",
    "brute = scs ( reads )\n",
    "\n",
    "brute, len ( brute )"
   ]
  },
  {
   "cell_type": "code",
   "execution_count": null,
   "id": "12064aac",
   "metadata": {},
   "outputs": [],
   "source": [
    "len ( brute ), brute"
   ]
  }
 ],
 "metadata": {
  "kernelspec": {
   "display_name": "Python 3 (Spyder)",
   "language": "python3",
   "name": "python3"
  },
  "language_info": {
   "codemirror_mode": {
    "name": "ipython",
    "version": 3
   },
   "file_extension": ".py",
   "mimetype": "text/x-python",
   "name": "python",
   "nbconvert_exporter": "python",
   "pygments_lexer": "ipython3",
   "version": "3.10.9"
  }
 },
 "nbformat": 4,
 "nbformat_minor": 5
}
