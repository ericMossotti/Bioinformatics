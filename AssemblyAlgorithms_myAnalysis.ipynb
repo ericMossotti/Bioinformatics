{
 "cells": [
  {
   "cell_type": "code",
   "execution_count": 18,
   "id": "caabe912",
   "metadata": {},
   "outputs": [],
   "source": [
    "from Py.de_bruijn_ize import de_bruijn_ize\n",
    "from Py.pick_maximal_overlap import pick_maximal_overlap\n",
    "from Py.scs import scs\n",
    "from Py.greedy_scs import greedy_scs\n",
    "from Py.visualize_de_bruijn import visualize_de_bruijn\n",
    "from Py.overlap import overlap"
   ]
  },
  {
   "cell_type": "markdown",
   "id": "f47f3630",
   "metadata": {},
   "source": [
    "#### What is the shortest common superstring? "
   ]
  },
  {
   "cell_type": "code",
   "execution_count": 53,
   "id": "91256cbd",
   "metadata": {},
   "outputs": [],
   "source": [
    "def overlap(a, b, min_length=3):\n",
    "    \"\"\" Return length of longest suffix of 'a' matching\n",
    "        a prefix of 'b' that is at least 'min_length'\n",
    "        characters long.  If no such overlap exists,\n",
    "        return 0. \"\"\"\n",
    "    start = 0  # start all the way at the left\n",
    "    while True:\n",
    "        start = a.find(b[:min_length], start)  # look for b's suffx in a\n",
    "        if start == -1:  # no more occurrences to right\n",
    "            return 0\n",
    "        # found occurrence; check for full suffix/prefix match\n",
    "        if b.startswith(a[start:]):\n",
    "            return len(a)-start\n",
    "        start += 1  # move just past previous match\n"
   ]
  },
  {
   "cell_type": "code",
   "execution_count": null,
   "id": "dcc22b41",
   "metadata": {},
   "outputs": [],
   "source": [
    "import itertools\n",
    "\n",
    "def scs(ss):\n",
    "    \"\"\" Returns shortest common superstring of given\n",
    "        strings, which must be the same length \"\"\"\n",
    "    shortest_sup = None\n",
    "    for ssperm in itertools.permutations(ss):\n",
    "        sup = ssperm[0]  # superstring starts as first string\n",
    "        for i in range(len(ss)-1):\n",
    "            # overlap adjacent strings A and B in the permutation\n",
    "            olen = overlap(ssperm[i], ssperm[i+1], min_length=1)\n",
    "            # add non-overlapping portion of B to superstring\n",
    "            sup += ssperm[i+1][olen:]\n",
    "        if shortest_sup is None or len(sup) < len(shortest_sup):\n",
    "            shortest_sup = sup  # found shorter superstring\n",
    "    return shortest_sup  # return shortest"
   ]
  },
  {
   "cell_type": "code",
   "execution_count": 54,
   "id": "f6e9ac03",
   "metadata": {},
   "outputs": [],
   "source": [
    "ss = set ( [ \"CCT\", \"CTT\", \"TGC\", \"TGG\", \"GAT\", \"ATT\" ] )"
   ]
  },
  {
   "cell_type": "code",
   "execution_count": 55,
   "id": "fcb05a11",
   "metadata": {},
   "outputs": [
    {
     "data": {
      "text/plain": [
       "\u001b[1;31mType:\u001b[0m        set\n",
       "\u001b[1;31mString form:\u001b[0m {'ATT', 'GAT', 'TGC', 'CCT', 'CTT', 'TGG'}\n",
       "\u001b[1;31mLength:\u001b[0m      6\n",
       "\u001b[1;31mDocstring:\u001b[0m  \n",
       "set() -> new empty set object\n",
       "set(iterable) -> new set object\n",
       "\n",
       "Build an unordered collection of unique elements."
      ]
     },
     "metadata": {},
     "output_type": "display_data"
    }
   ],
   "source": [
    "?ss"
   ]
  },
  {
   "cell_type": "code",
   "execution_count": 12,
   "id": "1a14649d",
   "metadata": {},
   "outputs": [
    {
     "data": {
      "text/plain": [
       "'GATTGCCTTGG'"
      ]
     },
     "execution_count": 12,
     "metadata": {},
     "output_type": "execute_result"
    }
   ],
   "source": [
    "scs ( ss )"
   ]
  },
  {
   "cell_type": "code",
   "execution_count": 14,
   "id": "271b889b",
   "metadata": {},
   "outputs": [
    {
     "name": "stdout",
     "output_type": "stream",
     "text": [
      " Length of the scs for the set of strings, ss:  11\n"
     ]
    }
   ],
   "source": [
    "print ( \" Length of the scs for the set of strings, ss: \", len ( scs ( ss ) ) )"
   ]
  },
  {
   "cell_type": "markdown",
   "id": "99d86abe",
   "metadata": {},
   "source": [
    "#### How many scs' are there from ss? "
   ]
  },
  {
   "cell_type": "code",
   "execution_count": 58,
   "id": "8f1ebd1a",
   "metadata": {},
   "outputs": [],
   "source": [
    "def scs ( ss ) :\n",
    "    \n",
    "    \"\"\" Returns shortest common superstring of given\n",
    "        strings, which must be the same length \"\"\"\n",
    "    \n",
    "    shortest_sup = None\n",
    "    \n",
    "    ssList = list ()\n",
    "    \n",
    "    for ssperm in itertools.permutations ( ss ) :\n",
    "        \n",
    "        sup = ssperm [ 0 ]  # superstring starts as first string\n",
    "        \n",
    "        for i in range ( len ( ss ) - 1 ) :\n",
    "            \n",
    "            # overlap adjacent strings A and B in the permutation\n",
    "            \n",
    "            olen = overlap ( ssperm [ i ], ssperm [ i + 1 ], min_length = 1 )\n",
    "            \n",
    "            # add non-overlapping portion of B to superstring\n",
    "            \n",
    "            sup += ssperm [ i + 1 ] [ olen : ]\n",
    "            \n",
    "        if shortest_sup is None or len ( sup ) < len ( shortest_sup ) :\n",
    "            \n",
    "            shortest_sup = sup  # found shorter superstring\n",
    "            \n",
    "            ssList.append ( shortest_sup ) ## mod\n",
    "            \n",
    "            \n",
    "        ssLen = len ( shortest_sup )  ## mod\n",
    "            \n",
    "        listLen = len ( ssList ) ## mod\n",
    "        \n",
    "        \n",
    "        \n",
    "        for s in range ( listLen - 1 ) : ## mod\n",
    "            \n",
    "            sLen = len ( ssList [ s ] ) \n",
    "\n",
    "            if ( sLen > ssLen ) : ## mod\n",
    "\n",
    "                ssList.pop ( s ) ## mod\n",
    "\n",
    "    return shortest_sup, ssList  # return shortest ## mod"
   ]
  },
  {
   "cell_type": "code",
   "execution_count": 59,
   "id": "32fa3a3f",
   "metadata": {},
   "outputs": [
    {
     "data": {
      "text/plain": [
       "('GATTGCCTTGG', ['GATTGCCTTGG'])"
      ]
     },
     "execution_count": 59,
     "metadata": {},
     "output_type": "execute_result"
    }
   ],
   "source": [
    "scs ( ss )"
   ]
  },
  {
   "cell_type": "code",
   "execution_count": null,
   "id": "412eda6a",
   "metadata": {},
   "outputs": [],
   "source": []
  }
 ],
 "metadata": {
  "kernelspec": {
   "display_name": "Python 3 (Spyder)",
   "language": "python3",
   "name": "python3"
  },
  "language_info": {
   "codemirror_mode": {
    "name": "ipython",
    "version": 3
   },
   "file_extension": ".py",
   "mimetype": "text/x-python",
   "name": "python",
   "nbconvert_exporter": "python",
   "pygments_lexer": "ipython3",
   "version": "3.10.9"
  }
 },
 "nbformat": 4,
 "nbformat_minor": 5
}
