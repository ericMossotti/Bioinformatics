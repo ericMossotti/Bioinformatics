{
 "cells": [
  {
   "cell_type": "markdown",
   "id": "94a01dbc",
   "metadata": {},
   "source": [
    "# Assembly Algorithms: My Analysis"
   ]
  },
  {
   "cell_type": "markdown",
   "id": "ca88cfa0",
   "metadata": {},
   "source": [
    "\n",
    "> \"The problem of sequence assembly can be compared to taking many copies of a book, passing each of them through a shredder with a different cutter, and piecing the text of the book back together just by looking at the shredded pieces. Besides the obvious difficulty of this task, there are some extra practical issues: the original may have many repeated paragraphs, and some shreds may be modified during shredding to have typos. Excerpts from another book may also be added in, and some shreds may be completely unrecognizable.\"\n",
    "\n",
    "https://en.wikipedia.org/wiki/Sequence_assembly"
   ]
  },
  {
   "cell_type": "code",
   "execution_count": 12,
   "id": "1922cd0d",
   "metadata": {},
   "outputs": [],
   "source": [
    "from Py.overlap import overlap\n",
    "\n",
    "from Py.de_bruijn_ize import de_bruijn_ize\n",
    "\n",
    "#from Py.pick_maximal_overlap import pick_maximal_overlap\n",
    "\n",
    "#from Py.scs import scs\n",
    "\n",
    "#from Py.greedy_scs import greedy_scs\n",
    "\n",
    "from Py.visualize_de_bruijn import visualize_de_bruijn"
   ]
  },
  {
   "cell_type": "markdown",
   "id": "c1c75b3a",
   "metadata": {},
   "source": [
    "#### What is the shortest common superstring? "
   ]
  },
  {
   "cell_type": "code",
   "execution_count": 13,
   "id": "ba260b0f",
   "metadata": {},
   "outputs": [],
   "source": [
    "from itertools import permutations\n",
    "\n",
    "\"\"\" aka, the BRUTE FORCE VERSION \"\"\"\n",
    "\n",
    "\"\"\" Returns shortest common superstring of given\n",
    "    strings, which must be the same length \"\"\"\n",
    "\n",
    "def scs ( ss ) :\n",
    "    \n",
    "    shortest_sup = None\n",
    "    \n",
    "    for ssperm in permutations ( ss ) :\n",
    "        \n",
    "        sup = ssperm [ 0 ]  # superstring starts as first string\n",
    "        \n",
    "        for i in range ( len ( ss ) - 1 ) :\n",
    "            \n",
    "            # overlap adjacent strings A and B in the permutation\n",
    "            \n",
    "            olen = overlap ( ssperm [ i ], ssperm [ i + 1 ], min_length = 1 )\n",
    "            \n",
    "            # add non-overlapping portion of B to superstring\n",
    "            \n",
    "            sup += ssperm [ i + 1 ] [olen : ]\n",
    "            \n",
    "        if shortest_sup is None or len ( sup ) < len ( shortest_sup ) :\n",
    "            \n",
    "            shortest_sup = sup  # found shorter superstring\n",
    "            \n",
    "    return shortest_sup  # return shortest"
   ]
  },
  {
   "cell_type": "code",
   "execution_count": 14,
   "id": "14185baa",
   "metadata": {},
   "outputs": [],
   "source": [
    "ss = [ \"CCT\", \"CTT\", \"TGC\", \"TGG\", \"GAT\", \"ATT\" ]"
   ]
  },
  {
   "cell_type": "code",
   "execution_count": 15,
   "id": "19eccbf7",
   "metadata": {},
   "outputs": [
    {
     "data": {
      "text/plain": [
       "\u001b[1;31mType:\u001b[0m        list\n",
       "\u001b[1;31mString form:\u001b[0m ['CCT', 'CTT', 'TGC', 'TGG', 'GAT', 'ATT']\n",
       "\u001b[1;31mLength:\u001b[0m      6\n",
       "\u001b[1;31mDocstring:\u001b[0m  \n",
       "Built-in mutable sequence.\n",
       "\n",
       "If no argument is given, the constructor creates a new empty list.\n",
       "The argument must be an iterable if specified."
      ]
     },
     "metadata": {},
     "output_type": "display_data"
    }
   ],
   "source": [
    "?ss"
   ]
  },
  {
   "cell_type": "code",
   "execution_count": 16,
   "id": "7b62d1a1",
   "metadata": {},
   "outputs": [
    {
     "name": "stdout",
     "output_type": "stream",
     "text": [
      "Shortest common superstring: CCTTGGATTGC\n"
     ]
    }
   ],
   "source": [
    "print ( \"Shortest common superstring:\", scs ( ss ) )"
   ]
  },
  {
   "cell_type": "code",
   "execution_count": 17,
   "id": "0ec26998",
   "metadata": {},
   "outputs": [
    {
     "name": "stdout",
     "output_type": "stream",
     "text": [
      "Length of the scs for the set of strings, ss:  11\n"
     ]
    }
   ],
   "source": [
    "print ( \"Length of the scs for the set of strings, ss: \", len ( scs ( ss ) ) )"
   ]
  },
  {
   "cell_type": "markdown",
   "id": "d39ba1b5",
   "metadata": {},
   "source": [
    "#### There can be more than one shortest common superstring (SCS). "
   ]
  },
  {
   "cell_type": "code",
   "execution_count": 18,
   "id": "099313d5",
   "metadata": {},
   "outputs": [],
   "source": [
    "\n",
    "\"\"\" LIST VERSION OF SCS ( ) - BRUTE FORCE \"\"\"\n",
    "\n",
    "def scsList ( ss ) : \n",
    "    \n",
    "    import itertools\n",
    "\n",
    "    from Py.overlap import overlap\n",
    "\n",
    "    \"\"\" Returns shortest common superstring of given strings,\n",
    "        assuming no string is a strict substring of another \"\"\"\n",
    "\n",
    "    shortest_sup = None\n",
    "\n",
    "    \"\"\" Initializing an empty list for our strings that are tied for scs \"\"\"\n",
    "    \n",
    "    supList = list ()\n",
    "\n",
    "    for ssperm in itertools.permutations ( ss ) :\n",
    "\n",
    "        sup = ssperm [ 0 ]\n",
    "\n",
    "        for i in range ( len ( ss ) - 1 ) :\n",
    "\n",
    "            olen = overlap ( ssperm [ i ], ssperm [ i + 1 ], min_length = 1 )\n",
    "\n",
    "            sup += ssperm [ i + 1 ] [ olen : ]\n",
    "\n",
    "\n",
    "        if shortest_sup is None or len ( sup ) < len ( shortest_sup ) :\n",
    "\n",
    "            shortest_sup = sup\n",
    "\n",
    "        # Appending all superstrings as they are found before filitering out \n",
    "        # the longer ones below.\n",
    "        \n",
    "        supList . append ( sup )\n",
    "\n",
    "    \"\"\" Initializing our filtered list of strings that are tied for having the\n",
    "     shortest possible length. We took advantage of the above code, which\n",
    "     will have the true shortest scs by the time it has finished looping through \n",
    "     all of the superstring permutations (ssperm).\n",
    "     \n",
    "     \n",
    "     We then just take the length of the string still held in the variable \n",
    "     shortest_sup, to filter out strings that have greater lengths. \"\"\"\n",
    "\n",
    "    scslist = list () \n",
    "\n",
    "    for s in range ( len ( supList ) - 1 ) : \n",
    "\n",
    "        if  not ( len ( supList [ s ] ) > len ( shortest_sup ) )  :\n",
    "\n",
    "            scslist . append ( supList [ s ] )\n",
    "    \n",
    "    return scslist"
   ]
  },
  {
   "cell_type": "code",
   "execution_count": 19,
   "id": "6da6242f",
   "metadata": {},
   "outputs": [],
   "source": [
    "reads = [ \"CCT\", \"CTT\", \"TGC\", \"TGG\", \"GAT\", \"ATT\" ]"
   ]
  },
  {
   "cell_type": "code",
   "execution_count": 20,
   "id": "413cd152",
   "metadata": {},
   "outputs": [
    {
     "name": "stdout",
     "output_type": "stream",
     "text": [
      "All scs' in the above input strings:\n",
      "  ['CCTTGGATTGC', 'TGCCTTGGATT', 'TGGATTGCCTT', 'GATTGCCTTGG']\n"
     ]
    }
   ],
   "source": [
    "print ( \"All scs' in the above input strings:\\n \", scsList ( reads ) )"
   ]
  },
  {
   "cell_type": "code",
   "execution_count": 21,
   "id": "a8183368",
   "metadata": {},
   "outputs": [
    {
     "name": "stdout",
     "output_type": "stream",
     "text": [
      "Count of strings that are tied for the shortest common superstring: 4\n"
     ]
    }
   ],
   "source": [
    "print ( \"Count of strings that are tied for the shortest common superstring:\",\n",
    "      len ( scsList ( reads ) ) )"
   ]
  },
  {
   "cell_type": "markdown",
   "id": "609dab47",
   "metadata": {},
   "source": [
    "### How many A's are there in a fully assembled genome?"
   ]
  },
  {
   "cell_type": "code",
   "execution_count": 22,
   "id": "1e388954",
   "metadata": {},
   "outputs": [],
   "source": [
    "from itertools import permutations\n",
    "from Py.overlap import overlap\n",
    "\n",
    "\n",
    "\"\"\"\"This is a helper function for the greedy_scs() function\"\"\"\n",
    "\n",
    "\"\"\" UNMODIFIED \"\"\"\n",
    "\n",
    "def pick_maximal_overlap ( reads, k ) :\n",
    "    \n",
    "    \"\"\" Return a pair of reads from the list with a\n",
    "        maximal suffix/prefix overlap >= k.  Returns\n",
    "        overlap length 0 if there are no such overlaps.\"\"\"\n",
    "        \n",
    "    reada, readb = None, None\n",
    "    \n",
    "    best_olen = 0\n",
    "    \n",
    "    for a, b in permutations ( reads, 2 ) :\n",
    "                    \n",
    "        olen = overlap ( a, b, min_length = k )\n",
    "\n",
    "        if olen > best_olen :\n",
    "\n",
    "            reada, readb = a, b\n",
    "\n",
    "            best_olen = olen\n",
    "\n",
    "    return reada, readb, best_olen"
   ]
  },
  {
   "cell_type": "code",
   "execution_count": 23,
   "id": "b0250ea5",
   "metadata": {},
   "outputs": [],
   "source": [
    "from collections import defaultdict\n",
    "\n",
    "\"\"\" A K-mer/reads dictionary function. \n",
    "\n",
    "All k-mers are unique and reads are grouped as a set. The purpose is to improve\n",
    " overlap function speed for large sets of reads. \"\"\"\n",
    "\n",
    "def kmerdict ( reads, k ) :\n",
    "    \n",
    "    kdict = defaultdict ( set )\n",
    "\n",
    "    for read in reads : \n",
    "\n",
    "        for i in range ( 0, len ( read ) - k + 1 ) :\n",
    "\n",
    "            kdict [ read [ i : i + k ] ] . add ( read )\n",
    "\n",
    "    return kdict"
   ]
  },
  {
   "cell_type": "code",
   "execution_count": 24,
   "id": "e3c7125a",
   "metadata": {},
   "outputs": [],
   "source": [
    "def greedy_scs ( reads, k ) :\n",
    "    \n",
    "    \"\"\" Greedy shortest-common-superstring merge.\n",
    "        Repeat until no edges (overlaps of length >= k)\n",
    "        remain. \"\"\"\n",
    "        \n",
    "    read_a, read_b, olen = pick_maximal_overlap ( reads, k )\n",
    "    \n",
    "    while olen > 0 :\n",
    "        \n",
    "        # Removes the separate reads\n",
    "        \n",
    "        reads . remove ( read_a )\n",
    "        \n",
    "        reads . remove ( read_b )\n",
    "        \n",
    "        # Adds them back as one concatenated prefix/suffix \n",
    "        \n",
    "        # The entire length of read_a represents the prefix\n",
    "        \n",
    "        # Suffix read_b is sliced starting at index = olen to the end \n",
    "        \n",
    "        reads . append ( read_a + read_b [ olen : ] )\n",
    "        \n",
    "        \n",
    "        read_a, read_b, olen = pick_maximal_overlap ( reads, k )\n",
    "        \n",
    "    return '' . join ( reads )"
   ]
  },
  {
   "cell_type": "code",
   "execution_count": 25,
   "id": "552256d7",
   "metadata": {},
   "outputs": [],
   "source": [
    "from itertools import permutations\n",
    "from Py.overlap import overlap\n",
    "\n",
    "\n",
    "\"\"\"\"This is a helper function for the greedy_scs() function\"\"\"\n",
    "\n",
    "\"\"\" MODIFIED VERSION \"\"\"\n",
    "\n",
    "def pick_maximal_overlap_faster ( reads, k ) :\n",
    "    \n",
    "    \"\"\" Return a pair of reads from the list with a\n",
    "        maximal suffix/prefix overlap >= k.  Returns\n",
    "        overlap length 0 if there are no such overlaps.\"\"\"\n",
    "        \n",
    "    reada, readb = None, None\n",
    "    \n",
    "    best_olen = 0\n",
    "    \n",
    "    \"\"\" \n",
    "    \n",
    "    Speeding things along with a kmer-indexed dictionary of unique \n",
    "    k-mers and the corresponding sets of k-mer containing reads \n",
    "    \n",
    "    key, unique kmer string\n",
    "    value, corresponding set of all reads where that kmer can be found \n",
    "    \n",
    "    \"\"\"\n",
    "    \n",
    "    kmers = kmerdict ( reads, k )\n",
    "    \n",
    "    # Extracting the suffixes of reads\n",
    "    \n",
    "    for a in reads : \n",
    "            \n",
    "        asfx = a [ - k : ]\n",
    "\n",
    "        # Quickly finds all reads for that extracted suffix \n",
    "        # from the kmer dictionary\n",
    "        \n",
    "        for b in kmers [ asfx ] :\n",
    "\n",
    "            # We don't want to match a read with itself\n",
    "            \n",
    "            if ( b != a ) :\n",
    "            \n",
    "                # Overlap length of two reads by at least k length characters\n",
    "                \n",
    "                olen = overlap ( a, b, min_length = k )\n",
    "\n",
    "                # Can be greater or equal to the best overlap length\n",
    "                \n",
    "                \"\"\"\n",
    "                \n",
    "                Finding the max prefix/suffix overlap length\n",
    "                helps make the algorithm more efficient by using \n",
    "                the largest pieces possible.\n",
    "                \n",
    "                \"\"\"\n",
    "                # Updates the best overlap length if a longer olen is discovered.\n",
    "                \n",
    "                if olen >= best_olen :\n",
    "\n",
    "                    reada, readb = a, b\n",
    "\n",
    "                    best_olen = olen\n",
    "\n",
    "    return reada, readb, best_olen"
   ]
  },
  {
   "cell_type": "code",
   "execution_count": 26,
   "id": "34e5fef5",
   "metadata": {},
   "outputs": [],
   "source": [
    "def greedy_scs_faster ( reads, k ) :\n",
    "    \n",
    "    \"\"\" Greedy shortest-common-superstring merge.\n",
    "        Repeat until no edges (overlaps of length >= k)\n",
    "        remain. \"\"\"\n",
    "        \n",
    "    \"\"\" ( slightly ) MODIFIED VERSION \"\"\"\n",
    "    \n",
    "    read_a, read_b, olen = pick_maximal_overlap ( reads, k )\n",
    "    \n",
    "    while olen > 0 :\n",
    "        \n",
    "        reads . remove ( read_a )\n",
    "        \n",
    "        reads . remove ( read_b )\n",
    "        \n",
    "        reads . append ( read_a + read_b [ olen : ] )\n",
    "        \n",
    "        \"\"\" The only change is that we use a modified pick_maximal_overlap \n",
    "        that is better sited to assembling large read files, such as \n",
    "        entire genome sequence. \"\"\"\n",
    "        \n",
    "        read_a, read_b, olen = pick_maximal_overlap_faster ( reads, k ) \n",
    "        \n",
    "    return '' . join ( reads )"
   ]
  },
  {
   "cell_type": "code",
   "execution_count": 27,
   "id": "f0cf82ba",
   "metadata": {},
   "outputs": [
    {
     "name": "stdout",
     "output_type": "stream",
     "text": [
      "CPU times: total: 0 ns\n",
      "Wall time: 0 ns\n"
     ]
    },
    {
     "data": {
      "text/plain": [
       "('TCGTGCAATGATAG', 14)"
      ]
     },
     "execution_count": 27,
     "metadata": {},
     "output_type": "execute_result"
    }
   ],
   "source": [
    "%%time \n",
    "\n",
    "reads = ['GAT', 'TAG', 'TCG', 'TGC', 'AAT', 'ATA']\n",
    "\n",
    "res = greedy_scs ( reads , k = 2 )\n",
    "\n",
    "res, len ( res )"
   ]
  },
  {
   "cell_type": "code",
   "execution_count": 28,
   "id": "483283ba",
   "metadata": {},
   "outputs": [
    {
     "name": "stdout",
     "output_type": "stream",
     "text": [
      "CPU times: total: 0 ns\n",
      "Wall time: 0 ns\n"
     ]
    },
    {
     "data": {
      "text/plain": [
       "('TCGTGCAATGATAG', 14)"
      ]
     },
     "execution_count": 28,
     "metadata": {},
     "output_type": "execute_result"
    }
   ],
   "source": [
    "%%time \n",
    "\n",
    "reads = ['GAT', 'TAG', 'TCG', 'TGC', 'AAT', 'ATA']\n",
    "\n",
    "res = greedy_scs_faster ( reads , k = 2 )\n",
    "\n",
    "res, len ( res )"
   ]
  },
  {
   "cell_type": "code",
   "execution_count": 29,
   "id": "17f93a70",
   "metadata": {},
   "outputs": [
    {
     "name": "stdout",
     "output_type": "stream",
     "text": [
      "CPU times: total: 53.2 s\n",
      "Wall time: 53.7 s\n"
     ]
    },
    {
     "data": {
      "text/plain": [
       "\u001b[1;31mType:\u001b[0m        str\n",
       "\u001b[1;31mString form:\u001b[0m ACCAAACAAAGTTGGGTAAGGATAGATCAATCAATGATCATATTCTAGTACACTTAGGATTCAAGATCCTATTATCAGGGACAAGAGCAGGATTAGG <...> CGGAACCCTAATCCTGCCCTAGGTAGTTAGGCATTATTTGCAATATATTAAAGAAAACTTTGAAAATACGAAGTTTCTATTCCCAGCTTTGTCTGGT\n",
       "\u001b[1;31mLength:\u001b[0m      15894\n",
       "\u001b[1;31mDocstring:\u001b[0m  \n",
       "str(object='') -> str\n",
       "str(bytes_or_buffer[, encoding[, errors]]) -> str\n",
       "\n",
       "Create a new string object from the given object. If encoding or\n",
       "errors is specified, then the object must expose a data buffer\n",
       "that will be decoded using the given encoding and error handler.\n",
       "Otherwise, returns the result of object.__str__() (if defined)\n",
       "or repr(object).\n",
       "encoding defaults to sys.getdefaultencoding().\n",
       "errors defaults to 'strict'."
      ]
     },
     "metadata": {},
     "output_type": "display_data"
    }
   ],
   "source": [
    "%%time\n",
    "\n",
    "from Py.geneReader_Q import geneReader_Q\n",
    "\n",
    "filename = \"SeqFiles/ads1_week4_reads.fq\"\n",
    "\n",
    "reads = geneReader_Q ( filename )\n",
    "\n",
    "assembled_genome = greedy_scs_faster ( reads , k = 30 )\n",
    "\n",
    "?assembled_genome"
   ]
  },
  {
   "cell_type": "code",
   "execution_count": 30,
   "id": "f0e72d91",
   "metadata": {},
   "outputs": [
    {
     "name": "stdout",
     "output_type": "stream",
     "text": [
      " Length of the assembled genome:  15894\n"
     ]
    }
   ],
   "source": [
    "print ( \" Length of the assembled genome: \", len ( assembled_genome ) )"
   ]
  },
  {
   "cell_type": "code",
   "execution_count": 31,
   "id": "3bf73afa",
   "metadata": {},
   "outputs": [
    {
     "name": "stdout",
     "output_type": "stream",
     "text": [
      "Number of A's in the assembled genome:  4633\n"
     ]
    }
   ],
   "source": [
    "print ( \"Number of A's in the assembled genome: \", assembled_genome . count ( \"A\" ) )"
   ]
  },
  {
   "cell_type": "code",
   "execution_count": 32,
   "id": "057e1734",
   "metadata": {},
   "outputs": [
    {
     "name": "stdout",
     "output_type": "stream",
     "text": [
      "Number of T's in the assembled genome:  3723\n"
     ]
    }
   ],
   "source": [
    "print ( \"Number of T's in the assembled genome: \", assembled_genome . count ( \"T\" ) )"
   ]
  },
  {
   "cell_type": "code",
   "execution_count": 33,
   "id": "4d7dbc48",
   "metadata": {},
   "outputs": [],
   "source": [
    "def de_bruijn_ize ( st, k ) :\n",
    "    \n",
    "    \"\"\" Return a list holding, for each k-mer, its left\n",
    "        k-1-mer and its right k-1-mer in a pair \"\"\"\n",
    "        \n",
    "    edges = [ ]\n",
    "    \n",
    "    nodes = set ()\n",
    "    \n",
    "    for i in range ( len ( st ) - k + 1 ) :\n",
    "        \n",
    "        edges . append ( ( st [ i : i + k - 1 ], st [ i + 1 : i + k ] ) )\n",
    "        \n",
    "        nodes . add ( st [ i : i + k - 1 ] )\n",
    "        \n",
    "        nodes . add ( st [ i + 1 : i + k ] )\n",
    "        \n",
    "    return nodes, edges"
   ]
  },
  {
   "cell_type": "code",
   "execution_count": null,
   "id": "919dec5a",
   "metadata": {},
   "outputs": [],
   "source": []
  },
  {
   "cell_type": "code",
   "execution_count": 40,
   "id": "9d5eab4f",
   "metadata": {},
   "outputs": [
    {
     "data": {
      "text/plain": [
       "'GATTAGTCGTGCAATATA'"
      ]
     },
     "execution_count": 40,
     "metadata": {},
     "output_type": "execute_result"
    }
   ],
   "source": [
    "reads = ['GAT', 'TAG', 'TCG', 'TGC', 'AAT', 'ATA']\n",
    "\n",
    "k = 3\n",
    "\n",
    "st = greedy_scs_faster ( reads , k = 3 )\n",
    "\n",
    "st"
   ]
  },
  {
   "cell_type": "code",
   "execution_count": null,
   "id": "37c13b5b",
   "metadata": {},
   "outputs": [],
   "source": []
  },
  {
   "cell_type": "code",
   "execution_count": 41,
   "id": "3052ee8d",
   "metadata": {},
   "outputs": [
    {
     "data": {
      "text/plain": [
       "{'AA', 'AG', 'AT', 'CA', 'CG', 'GA', 'GC', 'GT', 'TA', 'TC', 'TG', 'TT'}"
      ]
     },
     "execution_count": 41,
     "metadata": {},
     "output_type": "execute_result"
    }
   ],
   "source": [
    "nodes, edges = de_bruijn_ize ( st, 3 )\n",
    "\n",
    "nodes"
   ]
  },
  {
   "cell_type": "code",
   "execution_count": 42,
   "id": "f0c2e3f4",
   "metadata": {},
   "outputs": [
    {
     "data": {
      "text/plain": [
       "[('GA', 'AT'),\n",
       " ('AT', 'TT'),\n",
       " ('TT', 'TA'),\n",
       " ('TA', 'AG'),\n",
       " ('AG', 'GT'),\n",
       " ('GT', 'TC'),\n",
       " ('TC', 'CG'),\n",
       " ('CG', 'GT'),\n",
       " ('GT', 'TG'),\n",
       " ('TG', 'GC'),\n",
       " ('GC', 'CA'),\n",
       " ('CA', 'AA'),\n",
       " ('AA', 'AT'),\n",
       " ('AT', 'TA'),\n",
       " ('TA', 'AT'),\n",
       " ('AT', 'TA')]"
      ]
     },
     "execution_count": 42,
     "metadata": {},
     "output_type": "execute_result"
    }
   ],
   "source": [
    "edges"
   ]
  },
  {
   "cell_type": "code",
   "execution_count": 47,
   "id": "ba19815d",
   "metadata": {},
   "outputs": [],
   "source": [
    "import graphviz\n",
    "\n",
    "def visualize_de_bruijn ( st, k ) :\n",
    "    \n",
    "    nodes, edges = de_bruijn_ize ( st, k ) \n",
    "    \n",
    "    dot = graphviz . Digraph ( comment = '' )\n",
    "    \n",
    "    for node in nodes :\n",
    "        \n",
    "        dot . node ( node )\n",
    "        \n",
    "    # starting edge to destination point\n",
    "        \n",
    "    for src, dst in edges :\n",
    "        \n",
    "        dot . edge ( src, dst )\n",
    "        \n",
    "    return dot\n",
    "\n",
    "viz = visualize_de_bruijn ( st, 3 )"
   ]
  },
  {
   "cell_type": "code",
   "execution_count": 48,
   "id": "5bc20a44",
   "metadata": {},
   "outputs": [
    {
     "data": {
      "image/svg+xml": [
       "<?xml version=\"1.0\" encoding=\"UTF-8\" standalone=\"no\"?>\n",
       "<!DOCTYPE svg PUBLIC \"-//W3C//DTD SVG 1.1//EN\"\n",
       " \"http://www.w3.org/Graphics/SVG/1.1/DTD/svg11.dtd\">\n",
       "<!-- Generated by graphviz version 2.50.0 (0)\n",
       " -->\n",
       "<!-- Pages: 1 -->\n",
       "<svg width=\"190pt\" height=\"692pt\"\n",
       " viewBox=\"0.00 0.00 190.00 692.00\" xmlns=\"http://www.w3.org/2000/svg\" xmlns:xlink=\"http://www.w3.org/1999/xlink\">\n",
       "<g id=\"graph0\" class=\"graph\" transform=\"scale(1 1) rotate(0) translate(4 688)\">\n",
       "<polygon fill=\"white\" stroke=\"transparent\" points=\"-4,4 -4,-688 186,-688 186,4 -4,4\"/>\n",
       "<!-- GC -->\n",
       "<g id=\"node1\" class=\"node\">\n",
       "<title>GC</title>\n",
       "<ellipse fill=\"none\" stroke=\"black\" cx=\"100\" cy=\"-666\" rx=\"27\" ry=\"18\"/>\n",
       "<text text-anchor=\"middle\" x=\"100\" y=\"-662.3\" font-family=\"Times New Roman,serif\" font-size=\"14.00\">GC</text>\n",
       "</g>\n",
       "<!-- CA -->\n",
       "<g id=\"node4\" class=\"node\">\n",
       "<title>CA</title>\n",
       "<ellipse fill=\"none\" stroke=\"black\" cx=\"73\" cy=\"-594\" rx=\"27\" ry=\"18\"/>\n",
       "<text text-anchor=\"middle\" x=\"73\" y=\"-590.3\" font-family=\"Times New Roman,serif\" font-size=\"14.00\">CA</text>\n",
       "</g>\n",
       "<!-- GC&#45;&gt;CA -->\n",
       "<g id=\"edge11\" class=\"edge\">\n",
       "<title>GC&#45;&gt;CA</title>\n",
       "<path fill=\"none\" stroke=\"black\" d=\"M93.6,-648.41C90.49,-640.34 86.67,-630.43 83.17,-621.35\"/>\n",
       "<polygon fill=\"black\" stroke=\"black\" points=\"86.4,-620.03 79.54,-611.96 79.87,-622.55 86.4,-620.03\"/>\n",
       "</g>\n",
       "<!-- AG -->\n",
       "<g id=\"node2\" class=\"node\">\n",
       "<title>AG</title>\n",
       "<ellipse fill=\"none\" stroke=\"black\" cx=\"45\" cy=\"-234\" rx=\"27\" ry=\"18\"/>\n",
       "<text text-anchor=\"middle\" x=\"45\" y=\"-230.3\" font-family=\"Times New Roman,serif\" font-size=\"14.00\">AG</text>\n",
       "</g>\n",
       "<!-- GT -->\n",
       "<g id=\"node5\" class=\"node\">\n",
       "<title>GT</title>\n",
       "<ellipse fill=\"none\" stroke=\"black\" cx=\"54\" cy=\"-162\" rx=\"27\" ry=\"18\"/>\n",
       "<text text-anchor=\"middle\" x=\"54\" y=\"-158.3\" font-family=\"Times New Roman,serif\" font-size=\"14.00\">GT</text>\n",
       "</g>\n",
       "<!-- AG&#45;&gt;GT -->\n",
       "<g id=\"edge5\" class=\"edge\">\n",
       "<title>AG&#45;&gt;GT</title>\n",
       "<path fill=\"none\" stroke=\"black\" d=\"M47.18,-216.05C48.17,-208.35 49.37,-199.03 50.48,-190.36\"/>\n",
       "<polygon fill=\"black\" stroke=\"black\" points=\"53.98,-190.64 51.78,-180.28 47.03,-189.75 53.98,-190.64\"/>\n",
       "</g>\n",
       "<!-- AA -->\n",
       "<g id=\"node3\" class=\"node\">\n",
       "<title>AA</title>\n",
       "<ellipse fill=\"none\" stroke=\"black\" cx=\"36\" cy=\"-522\" rx=\"27\" ry=\"18\"/>\n",
       "<text text-anchor=\"middle\" x=\"36\" y=\"-518.3\" font-family=\"Times New Roman,serif\" font-size=\"14.00\">AA</text>\n",
       "</g>\n",
       "<!-- AT -->\n",
       "<g id=\"node6\" class=\"node\">\n",
       "<title>AT</title>\n",
       "<ellipse fill=\"none\" stroke=\"black\" cx=\"36\" cy=\"-450\" rx=\"27\" ry=\"18\"/>\n",
       "<text text-anchor=\"middle\" x=\"36\" y=\"-446.3\" font-family=\"Times New Roman,serif\" font-size=\"14.00\">AT</text>\n",
       "</g>\n",
       "<!-- AA&#45;&gt;AT -->\n",
       "<g id=\"edge13\" class=\"edge\">\n",
       "<title>AA&#45;&gt;AT</title>\n",
       "<path fill=\"none\" stroke=\"black\" d=\"M36,-503.7C36,-495.98 36,-486.71 36,-478.11\"/>\n",
       "<polygon fill=\"black\" stroke=\"black\" points=\"39.5,-478.1 36,-468.1 32.5,-478.1 39.5,-478.1\"/>\n",
       "</g>\n",
       "<!-- CA&#45;&gt;AA -->\n",
       "<g id=\"edge12\" class=\"edge\">\n",
       "<title>CA&#45;&gt;AA</title>\n",
       "<path fill=\"none\" stroke=\"black\" d=\"M64.42,-576.76C59.94,-568.28 54.35,-557.71 49.32,-548.2\"/>\n",
       "<polygon fill=\"black\" stroke=\"black\" points=\"52.3,-546.35 44.54,-539.15 46.11,-549.62 52.3,-546.35\"/>\n",
       "</g>\n",
       "<!-- TC -->\n",
       "<g id=\"node11\" class=\"node\">\n",
       "<title>TC</title>\n",
       "<ellipse fill=\"none\" stroke=\"black\" cx=\"27\" cy=\"-90\" rx=\"27\" ry=\"18\"/>\n",
       "<text text-anchor=\"middle\" x=\"27\" y=\"-86.3\" font-family=\"Times New Roman,serif\" font-size=\"14.00\">TC</text>\n",
       "</g>\n",
       "<!-- GT&#45;&gt;TC -->\n",
       "<g id=\"edge6\" class=\"edge\">\n",
       "<title>GT&#45;&gt;TC</title>\n",
       "<path fill=\"none\" stroke=\"black\" d=\"M47.6,-144.41C44.49,-136.34 40.67,-126.43 37.17,-117.35\"/>\n",
       "<polygon fill=\"black\" stroke=\"black\" points=\"40.4,-116.03 33.54,-107.96 33.87,-118.55 40.4,-116.03\"/>\n",
       "</g>\n",
       "<!-- TG -->\n",
       "<g id=\"node12\" class=\"node\">\n",
       "<title>TG</title>\n",
       "<ellipse fill=\"none\" stroke=\"black\" cx=\"155\" cy=\"-90\" rx=\"27\" ry=\"18\"/>\n",
       "<text text-anchor=\"middle\" x=\"155\" y=\"-86.3\" font-family=\"Times New Roman,serif\" font-size=\"14.00\">TG</text>\n",
       "</g>\n",
       "<!-- GT&#45;&gt;TG -->\n",
       "<g id=\"edge9\" class=\"edge\">\n",
       "<title>GT&#45;&gt;TG</title>\n",
       "<path fill=\"none\" stroke=\"black\" d=\"M72.06,-148.49C87.76,-137.6 110.72,-121.69 128.5,-109.37\"/>\n",
       "<polygon fill=\"black\" stroke=\"black\" points=\"130.53,-112.22 136.76,-103.64 126.55,-106.46 130.53,-112.22\"/>\n",
       "</g>\n",
       "<!-- TA -->\n",
       "<g id=\"node8\" class=\"node\">\n",
       "<title>TA</title>\n",
       "<ellipse fill=\"none\" stroke=\"black\" cx=\"36\" cy=\"-306\" rx=\"27\" ry=\"18\"/>\n",
       "<text text-anchor=\"middle\" x=\"36\" y=\"-302.3\" font-family=\"Times New Roman,serif\" font-size=\"14.00\">TA</text>\n",
       "</g>\n",
       "<!-- AT&#45;&gt;TA -->\n",
       "<g id=\"edge14\" class=\"edge\">\n",
       "<title>AT&#45;&gt;TA</title>\n",
       "<path fill=\"none\" stroke=\"black\" d=\"M27.07,-432.99C21.65,-408.7 21.05,-362.29 25.27,-333.08\"/>\n",
       "<polygon fill=\"black\" stroke=\"black\" points=\"28.72,-333.63 27.04,-323.17 21.83,-332.4 28.72,-333.63\"/>\n",
       "</g>\n",
       "<!-- AT&#45;&gt;TA -->\n",
       "<g id=\"edge16\" class=\"edge\">\n",
       "<title>AT&#45;&gt;TA</title>\n",
       "<path fill=\"none\" stroke=\"black\" d=\"M44.93,-432.99C50.35,-408.7 50.95,-362.29 46.73,-333.08\"/>\n",
       "<polygon fill=\"black\" stroke=\"black\" points=\"50.17,-332.4 44.96,-323.17 43.28,-333.63 50.17,-332.4\"/>\n",
       "</g>\n",
       "<!-- TT -->\n",
       "<g id=\"node10\" class=\"node\">\n",
       "<title>TT</title>\n",
       "<ellipse fill=\"none\" stroke=\"black\" cx=\"109\" cy=\"-378\" rx=\"27\" ry=\"18\"/>\n",
       "<text text-anchor=\"middle\" x=\"109\" y=\"-374.3\" font-family=\"Times New Roman,serif\" font-size=\"14.00\">TT</text>\n",
       "</g>\n",
       "<!-- AT&#45;&gt;TT -->\n",
       "<g id=\"edge2\" class=\"edge\">\n",
       "<title>AT&#45;&gt;TT</title>\n",
       "<path fill=\"none\" stroke=\"black\" d=\"M50.77,-434.83C61.16,-424.87 75.24,-411.37 86.96,-400.14\"/>\n",
       "<polygon fill=\"black\" stroke=\"black\" points=\"89.45,-402.59 94.25,-393.14 84.61,-397.54 89.45,-402.59\"/>\n",
       "</g>\n",
       "<!-- CG -->\n",
       "<g id=\"node7\" class=\"node\">\n",
       "<title>CG</title>\n",
       "<ellipse fill=\"none\" stroke=\"black\" cx=\"54\" cy=\"-18\" rx=\"27\" ry=\"18\"/>\n",
       "<text text-anchor=\"middle\" x=\"54\" y=\"-14.3\" font-family=\"Times New Roman,serif\" font-size=\"14.00\">CG</text>\n",
       "</g>\n",
       "<!-- CG&#45;&gt;GT -->\n",
       "<g id=\"edge8\" class=\"edge\">\n",
       "<title>CG&#45;&gt;GT</title>\n",
       "<path fill=\"none\" stroke=\"black\" d=\"M57.65,-36.09C59.68,-46.43 61.98,-59.91 63,-72 64.34,-87.94 64.34,-92.06 63,-108 62.28,-116.5 60.93,-125.69 59.49,-133.99\"/>\n",
       "<polygon fill=\"black\" stroke=\"black\" points=\"56.03,-133.44 57.65,-143.91 62.91,-134.71 56.03,-133.44\"/>\n",
       "</g>\n",
       "<!-- TA&#45;&gt;AG -->\n",
       "<g id=\"edge4\" class=\"edge\">\n",
       "<title>TA&#45;&gt;AG</title>\n",
       "<path fill=\"none\" stroke=\"black\" d=\"M38.18,-288.05C39.17,-280.35 40.37,-271.03 41.48,-262.36\"/>\n",
       "<polygon fill=\"black\" stroke=\"black\" points=\"44.98,-262.64 42.78,-252.28 38.03,-261.75 44.98,-262.64\"/>\n",
       "</g>\n",
       "<!-- TA&#45;&gt;AT -->\n",
       "<g id=\"edge15\" class=\"edge\">\n",
       "<title>TA&#45;&gt;AT</title>\n",
       "<path fill=\"none\" stroke=\"black\" d=\"M36,-324.19C36,-348.42 36,-392.89 36,-421.68\"/>\n",
       "<polygon fill=\"black\" stroke=\"black\" points=\"32.5,-421.87 36,-431.87 39.5,-421.87 32.5,-421.87\"/>\n",
       "</g>\n",
       "<!-- GA -->\n",
       "<g id=\"node9\" class=\"node\">\n",
       "<title>GA</title>\n",
       "<ellipse fill=\"none\" stroke=\"black\" cx=\"108\" cy=\"-522\" rx=\"27\" ry=\"18\"/>\n",
       "<text text-anchor=\"middle\" x=\"108\" y=\"-518.3\" font-family=\"Times New Roman,serif\" font-size=\"14.00\">GA</text>\n",
       "</g>\n",
       "<!-- GA&#45;&gt;AT -->\n",
       "<g id=\"edge1\" class=\"edge\">\n",
       "<title>GA&#45;&gt;AT</title>\n",
       "<path fill=\"none\" stroke=\"black\" d=\"M93.43,-506.83C83.25,-496.94 69.48,-483.55 57.97,-472.36\"/>\n",
       "<polygon fill=\"black\" stroke=\"black\" points=\"60.41,-469.85 50.8,-465.38 55.53,-474.87 60.41,-469.85\"/>\n",
       "</g>\n",
       "<!-- TT&#45;&gt;TA -->\n",
       "<g id=\"edge3\" class=\"edge\">\n",
       "<title>TT&#45;&gt;TA</title>\n",
       "<path fill=\"none\" stroke=\"black\" d=\"M94.23,-362.83C83.84,-352.87 69.76,-339.37 58.04,-328.14\"/>\n",
       "<polygon fill=\"black\" stroke=\"black\" points=\"60.39,-325.54 50.75,-321.14 55.55,-330.59 60.39,-325.54\"/>\n",
       "</g>\n",
       "<!-- TC&#45;&gt;CG -->\n",
       "<g id=\"edge7\" class=\"edge\">\n",
       "<title>TC&#45;&gt;CG</title>\n",
       "<path fill=\"none\" stroke=\"black\" d=\"M33.4,-72.41C36.51,-64.34 40.33,-54.43 43.83,-45.35\"/>\n",
       "<polygon fill=\"black\" stroke=\"black\" points=\"47.13,-46.55 47.46,-35.96 40.6,-44.03 47.13,-46.55\"/>\n",
       "</g>\n",
       "<!-- TG&#45;&gt;GC -->\n",
       "<g id=\"edge10\" class=\"edge\">\n",
       "<title>TG&#45;&gt;GC</title>\n",
       "<path fill=\"none\" stroke=\"black\" d=\"M156.78,-108.03C159.4,-134.66 164,-187.79 164,-233 164,-523 164,-523 164,-523 164,-567.95 137.02,-614.39 118.1,-641.44\"/>\n",
       "<polygon fill=\"black\" stroke=\"black\" points=\"115.05,-639.68 112.04,-649.83 120.73,-643.77 115.05,-639.68\"/>\n",
       "</g>\n",
       "</g>\n",
       "</svg>\n"
      ],
      "text/plain": [
       "<graphviz.graphs.Digraph at 0x1ea20f978b0>"
      ]
     },
     "execution_count": 48,
     "metadata": {},
     "output_type": "execute_result"
    }
   ],
   "source": [
    "viz"
   ]
  },
  {
   "cell_type": "code",
   "execution_count": null,
   "id": "165432e5",
   "metadata": {},
   "outputs": [],
   "source": []
  }
 ],
 "metadata": {
  "kernelspec": {
   "display_name": "Python 3 (Spyder)",
   "language": "python3",
   "name": "python3"
  },
  "language_info": {
   "codemirror_mode": {
    "name": "ipython",
    "version": 3
   },
   "file_extension": ".py",
   "mimetype": "text/x-python",
   "name": "python",
   "nbconvert_exporter": "python",
   "pygments_lexer": "ipython3",
   "version": "3.8.8"
  }
 },
 "nbformat": 4,
 "nbformat_minor": 5
}
