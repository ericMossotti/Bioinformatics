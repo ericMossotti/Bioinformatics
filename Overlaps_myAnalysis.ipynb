{
 "cells": [
  {
   "cell_type": "markdown",
   "id": "b60c066a",
   "metadata": {},
   "source": [
    "# Overlaps and Edit Distance - An Analysis"
   ]
  },
  {
   "cell_type": "markdown",
   "id": "a3642514",
   "metadata": {},
   "source": [
    "\n",
    "\n",
    "> In computational linguistics and computer science, edit distance is a string metric, i.e. a way of quantifying how dissimilar two strings (e.g., words) are to one another, that is measured by counting the minimum number of operations required to transform one string into the other. Edit distances find applications in natural language processing, where automatic spelling correction can determine candidate corrections for a misspelled word by selecting words from a dictionary that have a low distance to the word in question. In bioinformatics, it can be used to quantify the similarity of DNA sequences, which can be viewed as strings of the letters A, C, G and T.\n",
    "\n",
    "*[Edit Distance - Wikipedia](https://en.wikipedia.org/wiki/Edit_distance)*\n",
    "\n"
   ]
  },
  {
   "cell_type": "code",
   "execution_count": null,
   "id": "2f515ee7",
   "metadata": {},
   "outputs": [],
   "source": [
    "from Py.geneReader import geneReader\n",
    "\n",
    "filename = 'SeqFiles/chr1.GRCh38.excerpt.fasta'\n",
    "\n",
    "data = open ( filename, 'r' )\n",
    "\n",
    "reads = geneReader ( filename )\n",
    "\n",
    "data.close ()"
   ]
  },
  {
   "cell_type": "code",
   "execution_count": null,
   "id": "a9734cfd",
   "metadata": {},
   "outputs": [],
   "source": [
    "from Py.editDistance import editDistance\n",
    "\n",
    "import numpy as np"
   ]
  },
  {
   "cell_type": "code",
   "execution_count": null,
   "id": "764c0611",
   "metadata": {},
   "outputs": [],
   "source": [
    "x = \"GATTTACCAGATTGAG\"\n",
    "\n",
    "y = reads\n",
    "\n",
    "D = [ ]"
   ]
  },
  {
   "cell_type": "code",
   "execution_count": null,
   "id": "c0a383f3",
   "metadata": {},
   "outputs": [],
   "source": [
    "# Range covers the offset row plus the length of the pattern\n",
    "\n",
    "for i in range ( len ( x ) + 1 ) :\n",
    "\n",
    "    # Initializes the dimensions of the matrix with 0s. \n",
    "\n",
    "    D.append ( [ 0 ] * ( len ( y ) + 1 ) )"
   ]
  },
  {
   "cell_type": "code",
   "execution_count": null,
   "id": "724e9736",
   "metadata": {},
   "outputs": [],
   "source": [
    "print ( 'Length of pattern:', len  ( x ) )"
   ]
  },
  {
   "cell_type": "code",
   "execution_count": null,
   "id": "6234370a",
   "metadata": {},
   "outputs": [],
   "source": [
    "print ( 'Length of sequence:', len ( y ) )"
   ]
  },
  {
   "cell_type": "code",
   "execution_count": null,
   "id": "230f220c",
   "metadata": {},
   "outputs": [],
   "source": [
    "D1 = np.matrix ( D )\n",
    "\n",
    "D1 = D1.view ( )\n",
    "\n",
    "print ( D1 )"
   ]
  },
  {
   "cell_type": "code",
   "execution_count": null,
   "id": "21c81923",
   "metadata": {},
   "outputs": [],
   "source": [
    "np.shape ( D )"
   ]
  },
  {
   "cell_type": "code",
   "execution_count": null,
   "id": "02accb97",
   "metadata": {},
   "outputs": [],
   "source": [
    "for i in range ( len ( x ) + 1 ) :\n",
    "\n",
    "    D [ i ] [ 0 ] = i"
   ]
  },
  {
   "cell_type": "code",
   "execution_count": null,
   "id": "4aafc0a8",
   "metadata": {},
   "outputs": [],
   "source": [
    "D1 = np.matrix ( D )\n",
    "\n",
    "D1 = D1.view ( )\n",
    "\n",
    "print ( D1 )"
   ]
  },
  {
   "cell_type": "code",
   "execution_count": null,
   "id": "17ebb062",
   "metadata": {},
   "outputs": [],
   "source": [
    "for j in range ( len ( y ) + 1 ) :\n",
    "        \n",
    "    D [ 0 ] [ j ] = 0"
   ]
  },
  {
   "cell_type": "code",
   "execution_count": null,
   "id": "8e689081",
   "metadata": {},
   "outputs": [],
   "source": [
    "D1 = np.matrix ( D )\n",
    "\n",
    "D1 = D1.view ( )\n",
    "\n",
    "print ( D1 )"
   ]
  },
  {
   "cell_type": "code",
   "execution_count": null,
   "id": "24aeb922",
   "metadata": {},
   "outputs": [],
   "source": [
    "# Fills in the rest of the matrix rows and columns.\n",
    "#\n",
    "# Starts at  row 1. \n",
    "\n",
    "for i in range ( 1, len ( x ) + 1 ) :\n",
    "\n",
    "    # goes by column, starts at column 1\n",
    "\n",
    "    for j in range ( 1, len ( y ) + 1 ) : \n",
    "\n",
    "    # value that is left adjacent to the current value, \n",
    "        # plus 1 is the penalty for character skipping\n",
    "\n",
    "        distHor = D [ i ] [ j - 1 ] + 1 \n",
    "\n",
    "        # value that is up adjacent to the current value, \n",
    "            # plus 1 is the penalty for character skipping\n",
    "\n",
    "        distVer = D [ i - 1 ] [ j ] + 1\n",
    "\n",
    "        # edit distance does not further increase if there is a match\n",
    "\n",
    "            # aka, if matches, does not incur penalty\n",
    "\n",
    "        if x [ i - 1 ] == y [ j - 1 ] : \n",
    "\n",
    "            # Diagonal up/left distance\n",
    "\n",
    "            distDiag = D [ i - 1 ] [ j - 1 ] \n",
    "\n",
    "\n",
    "        # otherwise, diagonal distance value increases by 1\n",
    "\n",
    "        else :\n",
    "\n",
    "            distDiag = D [ i - 1 ] [ j - 1 ] + 1 \n",
    "\n",
    "\n",
    "        # min () takes the minimum edit distance of the 3 possible values\n",
    "        # so this value will be inserted for the current iteration\n",
    "        # of row i, column j. \n",
    "\n",
    "        D [ i ] [ j ] = min ( distHor, distVer, distDiag ) "
   ]
  },
  {
   "cell_type": "code",
   "execution_count": null,
   "id": "59aa235d",
   "metadata": {},
   "outputs": [],
   "source": [
    "D1 = np.matrix ( D )\n",
    "\n",
    "D1 = D1.view ( )\n",
    "\n",
    "print ( D1 )"
   ]
  },
  {
   "cell_type": "code",
   "execution_count": null,
   "id": "28171974",
   "metadata": {},
   "outputs": [],
   "source": [
    "# We are interested in the minimum value of the bottom row.\n",
    "\n",
    "print ( min ( D [ -1 ] ) )"
   ]
  },
  {
   "cell_type": "code",
   "execution_count": null,
   "id": "9c5bd5b0",
   "metadata": {},
   "outputs": [],
   "source": []
  },
  {
   "cell_type": "code",
   "execution_count": null,
   "id": "0354609d",
   "metadata": {},
   "outputs": [],
   "source": []
  },
  {
   "cell_type": "code",
   "execution_count": 1,
   "id": "b358fd98",
   "metadata": {},
   "outputs": [],
   "source": [
    "from Py.geneReader_Q import geneReader_Q\n",
    "\n",
    "from collections import defaultdict\n",
    "\n",
    "from Py.overlap import overlap"
   ]
  },
  {
   "cell_type": "code",
   "execution_count": 3,
   "id": "53bee74d",
   "metadata": {},
   "outputs": [
    {
     "data": {
      "text/plain": [
       "\u001b[1;31mType:\u001b[0m        list\n",
       "\u001b[1;31mString form:\u001b[0m ['TAAACAAGCAGTAGTAATTCCTGCTTTATCAAGATAATTTTTCGACTCATCAGAAATATCCGAAAGTGTTAACTTCTGCGTCATGGAAGCGATAA <...> GGCCTCTATTAAGCTCATTCAGGCTTCTGCCGTTTTGGATTTAACCGAAGATGATTTCGATTTTCTGACTAGTAACAAAGTTTGGATTGCTACTG']\n",
       "\u001b[1;31mLength:\u001b[0m      10000\n",
       "\u001b[1;31mDocstring:\u001b[0m  \n",
       "Built-in mutable sequence.\n",
       "\n",
       "If no argument is given, the constructor creates a new empty list.\n",
       "The argument must be an iterable if specified."
      ]
     },
     "metadata": {},
     "output_type": "display_data"
    }
   ],
   "source": [
    "filename = 'SeqFiles/ERR266411_1.for_asm.fastq'\n",
    "\n",
    "reads = geneReader_Q ( filename )\n",
    "\n",
    "?reads"
   ]
  },
  {
   "cell_type": "code",
   "execution_count": 4,
   "id": "c2a3d142",
   "metadata": {},
   "outputs": [],
   "source": [
    "# Starting with an empty set object, we will then add every k-mer association to it\n",
    "\n",
    "def kmerExtract ( read, k ) :\n",
    "\n",
    "    setObj = set ()\n",
    "\n",
    "    for i in range ( 0, len ( read ) - k + 1 ) :\n",
    "\n",
    "        # We use the add method because we are dealing with a set, \n",
    "        # not a list.\n",
    "\n",
    "        setObj.add ( read [ i : i + k ] )\n",
    "    \n",
    "    return setObj"
   ]
  },
  {
   "cell_type": "code",
   "execution_count": 5,
   "id": "2edd8f78",
   "metadata": {},
   "outputs": [
    {
     "data": {
      "text/plain": [
       "\u001b[1;31mType:\u001b[0m        defaultdict\n",
       "\u001b[1;31mString form:\u001b[0m defaultdict(<class 'set'>, {'TAAACAAGCAGTAGTAATTCCTGCTTTATC': {'GCGCAAGGATAGGTCGAATTTTCTCATTTTCCG <...> ACGCGAACAATTCAGCGGCTTTAACCGGACGGTCGGCCCCGATAATAATGATTGCCGTAAATTCAGGGCTTTCCAGGATTAGGCAGGCCGTTT'}})\n",
       "\u001b[1;31mLength:\u001b[0m      108344\n",
       "\u001b[1;31mFile:\u001b[0m        c:\\users\\ecmos\\anaconda3\\lib\\collections\\__init__.py\n",
       "\u001b[1;31mDocstring:\u001b[0m  \n",
       "defaultdict(default_factory[, ...]) --> dict with default factory\n",
       "\n",
       "The default factory is called without arguments to produce\n",
       "a new value when a key is not present, in __getitem__ only.\n",
       "A defaultdict compares equal to a dict with the same items.\n",
       "All remaining arguments are treated the same as if they were\n",
       "passed to the dict constructor, including keyword arguments."
      ]
     },
     "metadata": {},
     "output_type": "display_data"
    }
   ],
   "source": [
    "kmerDict = defaultdict ( set )\n",
    "\n",
    "k = 30\n",
    "\n",
    "for read in reads : \n",
    "    \n",
    "    for i in range ( 0, len ( read ) - k + 1 ) :\n",
    "        \n",
    "        kmerDict [ read [ i : i + k ] ] . add ( read )\n",
    "        \n",
    "?kmerDict        "
   ]
  },
  {
   "cell_type": "code",
   "execution_count": 6,
   "id": "39b00cbc",
   "metadata": {},
   "outputs": [
    {
     "name": "stdout",
     "output_type": "stream",
     "text": [
      "CPU times: total: 1.72 s\n",
      "Wall time: 1.73 s\n"
     ]
    },
    {
     "data": {
      "text/plain": [
       "\u001b[1;31mType:\u001b[0m        defaultdict\n",
       "\u001b[1;31mString form:\u001b[0m defaultdict(<class 'set'>, {'TAAACAAGCAGTAGTAATTCCTGCTTTATCAAGATAATTTTTCGACTCATCAGAAATATCCGAAAGTG <...> TTCTGCCGTTTTGGATTTAACCGAAGATGATTTCGATTTTCTGACTAGTAACAAAGTTTGGATTGCTACTGACCGCTCTCGTGCTCGTCGCTG'}})\n",
       "\u001b[1;31mLength:\u001b[0m      7161\n",
       "\u001b[1;31mFile:\u001b[0m        c:\\users\\ecmos\\anaconda3\\lib\\collections\\__init__.py\n",
       "\u001b[1;31mDocstring:\u001b[0m  \n",
       "defaultdict(default_factory[, ...]) --> dict with default factory\n",
       "\n",
       "The default factory is called without arguments to produce\n",
       "a new value when a key is not present, in __getitem__ only.\n",
       "A defaultdict compares equal to a dict with the same items.\n",
       "All remaining arguments are treated the same as if they were\n",
       "passed to the dict constructor, including keyword arguments."
      ]
     },
     "metadata": {},
     "output_type": "display_data"
    }
   ],
   "source": [
    "%%time\n",
    "\n",
    "k = 30\n",
    "\n",
    "nodeSets = defaultdict ( set )\n",
    "\n",
    "for a in reads : \n",
    "    \n",
    "    asfx = a [ - k : ]\n",
    "    \n",
    "    for b in kmerDict [ a [ - k : ] ] :\n",
    "        \n",
    "        if ( b != a and overlap ( a, b, k ) ) :\n",
    "\n",
    "            nodeSets [ a ] . add ( b )\n",
    "        \n",
    "len ( nodeSets )\n",
    "\n",
    "#refers to reads with at least one overlap with another read\n",
    "?nodeSets"
   ]
  },
  {
   "cell_type": "code",
   "execution_count": 9,
   "id": "0d3b095d",
   "metadata": {},
   "outputs": [
    {
     "name": "stdout",
     "output_type": "stream",
     "text": [
      "CPU times: total: 2.38 s\n",
      "Wall time: 2.43 s\n"
     ]
    },
    {
     "data": {
      "text/plain": [
       "\u001b[1;31mType:\u001b[0m        list\n",
       "\u001b[1;31mString form:\u001b[0m [('TAAACAAGCAGTAGTAATTCCTGCTTTATCAAGATAATTTTTCGACTCATCAGAAATATCCGAAAGTGTTAACTTCTGCGTCATGGAAGCGATA <...> CTTCTGCCGTTTTGGATTTAACCGAAGATGATTTCGATTTTCTGACTAGTAACAAAGTTTGGATTGCTACTGACCGCTCTCGTGCTCGTCGCTG')]\n",
       "\u001b[1;31mLength:\u001b[0m      904746\n",
       "\u001b[1;31mDocstring:\u001b[0m  \n",
       "Built-in mutable sequence.\n",
       "\n",
       "If no argument is given, the constructor creates a new empty list.\n",
       "The argument must be an iterable if specified."
      ]
     },
     "metadata": {},
     "output_type": "display_data"
    }
   ],
   "source": [
    "%%time\n",
    "        \n",
    "\"\"\"\n",
    "\n",
    "After all reads containing a uniquely specific kmer key are now \n",
    "represented in a dictionary of sets, we can then run through \n",
    "all of the reads more quickly by just querying the length-k\n",
    "kmer which contains all values (or entire sequence reads).\n",
    "\n",
    "If we were checking one by one, every kmer key, the runtime would be extremely long.\n",
    "\n",
    "For the current read in the list of reads, we pull the length-k \n",
    "suffix from the read.\n",
    "\n",
    "Every key is unique, so that specific k-mer has all the reads we need.\n",
    "We would then have to cycle one by one, through only that set to append the full length \n",
    "sequence reads to the \"pairs\" list.\n",
    "\n",
    "\n",
    "\"\"\"\n",
    "\n",
    "k = 30\n",
    "\n",
    "pairs = [ ]\n",
    "\n",
    "for a in reads : \n",
    "    \n",
    "    asfx = a [ - k : ]\n",
    "    \n",
    "    for b in kmerDict [ asfx ] :\n",
    "                        \n",
    "        if ( b != a ) : \n",
    "            \n",
    "            olen = overlap ( a, b, k )\n",
    "\n",
    "            if ( olen >= k ) :\n",
    "\n",
    "                pairs.append ( ( a, b ) )\n",
    "                \n",
    "?pairs"
   ]
  },
  {
   "cell_type": "code",
   "execution_count": null,
   "id": "24437a24",
   "metadata": {},
   "outputs": [],
   "source": []
  }
 ],
 "metadata": {
  "kernelspec": {
   "display_name": "Python 3 (Spyder)",
   "language": "python3",
   "name": "python3"
  },
  "language_info": {
   "codemirror_mode": {
    "name": "ipython",
    "version": 3
   },
   "file_extension": ".py",
   "mimetype": "text/x-python",
   "name": "python",
   "nbconvert_exporter": "python",
   "pygments_lexer": "ipython3",
   "version": "3.8.8"
  }
 },
 "nbformat": 4,
 "nbformat_minor": 5
}
