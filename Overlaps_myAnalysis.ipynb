{
 "cells": [
  {
   "cell_type": "markdown",
   "id": "16c97337",
   "metadata": {},
   "source": [
    "# Overlaps and Edit Distance - An Analysis"
   ]
  },
  {
   "cell_type": "markdown",
   "id": "1d9ce59d",
   "metadata": {},
   "source": [
    "\n",
    "\n",
    "> In computational linguistics and computer science, edit distance is a string metric, i.e. a way of quantifying how dissimilar two strings (e.g., words) are to one another, that is measured by counting the minimum number of operations required to transform one string into the other. Edit distances find applications in natural language processing, where automatic spelling correction can determine candidate corrections for a misspelled word by selecting words from a dictionary that have a low distance to the word in question. In bioinformatics, it can be used to quantify the similarity of DNA sequences, which can be viewed as strings of the letters A, C, G and T.\n",
    "\n",
    "*[Edit Distance - Wikipedia](https://en.wikipedia.org/wiki/Edit_distance)*\n",
    "\n"
   ]
  },
  {
   "cell_type": "code",
   "execution_count": 16,
   "id": "21800605",
   "metadata": {},
   "outputs": [],
   "source": [
    "from Py.geneReader import geneReader\n",
    "\n",
    "filename = 'SeqFiles/chr1.GRCh38.excerpt.fasta'\n",
    "\n",
    "data = open ( filename, 'r' )\n",
    "\n",
    "reads = geneReader ( filename )\n",
    "\n",
    "data.close ()"
   ]
  },
  {
   "cell_type": "code",
   "execution_count": 17,
   "id": "25b1a72c",
   "metadata": {},
   "outputs": [],
   "source": [
    "from Py.editDistance import editDistance\n",
    "\n",
    "import numpy as np"
   ]
  },
  {
   "cell_type": "code",
   "execution_count": 41,
   "id": "bbe65971",
   "metadata": {},
   "outputs": [],
   "source": [
    "x = \"GATTTACCAGATTGAG\"\n",
    "\n",
    "y = reads\n",
    "\n",
    "D = [ ]"
   ]
  },
  {
   "cell_type": "code",
   "execution_count": 42,
   "id": "358aa199",
   "metadata": {},
   "outputs": [],
   "source": [
    "# Range covers the offset row plus the length of the pattern\n",
    "\n",
    "for i in range ( len ( x ) + 1 ) :\n",
    "\n",
    "    # Initializes the dimensions of the matrix with 0s. \n",
    "\n",
    "    D.append ( [ 0 ] * ( len ( y ) + 1 ) )"
   ]
  },
  {
   "cell_type": "code",
   "execution_count": 43,
   "id": "4fb0b941",
   "metadata": {},
   "outputs": [
    {
     "name": "stdout",
     "output_type": "stream",
     "text": [
      "Length of pattern: 16\n"
     ]
    }
   ],
   "source": [
    "print ( 'Length of pattern:', len  ( x ) )"
   ]
  },
  {
   "cell_type": "code",
   "execution_count": 44,
   "id": "3974c97b",
   "metadata": {},
   "outputs": [
    {
     "name": "stdout",
     "output_type": "stream",
     "text": [
      "Length of sequence: 800000\n"
     ]
    }
   ],
   "source": [
    "print ( 'Length of sequence:', len ( y ) )"
   ]
  },
  {
   "cell_type": "code",
   "execution_count": 45,
   "id": "8366d71d",
   "metadata": {},
   "outputs": [
    {
     "name": "stdout",
     "output_type": "stream",
     "text": [
      "[[0 0 0 ... 0 0 0]\n",
      " [0 0 0 ... 0 0 0]\n",
      " [0 0 0 ... 0 0 0]\n",
      " ...\n",
      " [0 0 0 ... 0 0 0]\n",
      " [0 0 0 ... 0 0 0]\n",
      " [0 0 0 ... 0 0 0]]\n"
     ]
    }
   ],
   "source": [
    "D1 = np.matrix ( D )\n",
    "\n",
    "D1 = D1.view ( )\n",
    "\n",
    "print ( D1 )"
   ]
  },
  {
   "cell_type": "code",
   "execution_count": 46,
   "id": "b80ead85",
   "metadata": {},
   "outputs": [
    {
     "data": {
      "text/plain": [
       "(17, 800001)"
      ]
     },
     "execution_count": 46,
     "metadata": {},
     "output_type": "execute_result"
    }
   ],
   "source": [
    "np.shape ( D )"
   ]
  },
  {
   "cell_type": "code",
   "execution_count": 47,
   "id": "7ec9467b",
   "metadata": {},
   "outputs": [],
   "source": [
    "for i in range ( len ( x ) + 1 ) :\n",
    "\n",
    "    D [ i ] [ 0 ] = i"
   ]
  },
  {
   "cell_type": "code",
   "execution_count": 48,
   "id": "04124a09",
   "metadata": {},
   "outputs": [
    {
     "name": "stdout",
     "output_type": "stream",
     "text": [
      "[[ 0  0  0 ...  0  0  0]\n",
      " [ 1  0  0 ...  0  0  0]\n",
      " [ 2  0  0 ...  0  0  0]\n",
      " ...\n",
      " [14  0  0 ...  0  0  0]\n",
      " [15  0  0 ...  0  0  0]\n",
      " [16  0  0 ...  0  0  0]]\n"
     ]
    }
   ],
   "source": [
    "D1 = np.matrix ( D )\n",
    "\n",
    "D1 = D1.view ( )\n",
    "\n",
    "print ( D1 )"
   ]
  },
  {
   "cell_type": "code",
   "execution_count": 52,
   "id": "59a1b844",
   "metadata": {},
   "outputs": [],
   "source": [
    "# Fills in the rest of the matrix rows and columns.\n",
    "#\n",
    "# Starts at  row 1. \n",
    "\n",
    "for i in range ( 1, len ( x ) + 1 ) :\n",
    "\n",
    "    # goes by column, starts at column 1\n",
    "\n",
    "    for j in range ( 1, len ( y ) + 1 ) : \n",
    "\n",
    "    # value that is left adjacent to the current value, \n",
    "        # plus 1 is the penalty for character skipping\n",
    "\n",
    "        distHor = D [ i ] [ j - 1 ] + 1 \n",
    "\n",
    "        # value that is up adjacent to the current value, \n",
    "            # plus 1 is the penalty for character skipping\n",
    "\n",
    "        distVer = D [ i - 1 ] [ j ] + 1\n",
    "\n",
    "        # edit distance does not further increase if there is a match\n",
    "\n",
    "            # if matches, does not incur penalty\n",
    "\n",
    "        if x [ i - 1 ] == y [ j - 1 ] : \n",
    "\n",
    "            # Diagonal up/left distance\n",
    "\n",
    "            distDiag = D [ i - 1 ] [ j - 1 ] \n",
    "\n",
    "\n",
    "        # otherwise, diagonal distance value increases by 1\n",
    "\n",
    "        else :\n",
    "\n",
    "            distDiag = D [ i - 1 ] [ j - 1 ] + 1 \n",
    "\n",
    "\n",
    "        # min () takes the minimum edit distance of the 3 possible values\n",
    "        # so this value will be inserted for the current iteration\n",
    "        # of row i, column j. \n",
    "\n",
    "        D [ i ] [ j ] = min ( distHor, distVer, distDiag ) "
   ]
  },
  {
   "cell_type": "markdown",
   "id": "2efaf469",
   "metadata": {},
   "source": [
    "Visualizing the new matrix with a numpy matrix, simply for a clean view. "
   ]
  },
  {
   "cell_type": "code",
   "execution_count": 50,
   "id": "2a44af55",
   "metadata": {},
   "outputs": [
    {
     "name": "stdout",
     "output_type": "stream",
     "text": [
      "[[ 0  0  0 ...  0  0  0]\n",
      " [ 1  1  1 ...  1  0  0]\n",
      " [ 2  2  2 ...  0  1  1]\n",
      " ...\n",
      " [14 13 12 ...  8  7  7]\n",
      " [15 14 13 ...  7  8  8]\n",
      " [16 15 14 ...  8  7  8]]\n"
     ]
    }
   ],
   "source": [
    "D1 = np.matrix ( D )\n",
    "\n",
    "D1 = D1.view ( )\n",
    "\n",
    "print ( D1 )"
   ]
  },
  {
   "cell_type": "code",
   "execution_count": 51,
   "id": "4ee9483f",
   "metadata": {},
   "outputs": [
    {
     "name": "stdout",
     "output_type": "stream",
     "text": [
      "2\n"
     ]
    }
   ],
   "source": [
    "# We are interested in the minimum value of the bottom row.\n",
    "\n",
    "print ( min ( D [ -1 ] ) )"
   ]
  },
  {
   "cell_type": "markdown",
   "id": "1fdd878a",
   "metadata": {},
   "source": [
    "___\n",
    "\n",
    "### Conclusion \n",
    "##### (Edit Distance) \n",
    "\n",
    "We see here that for the string given, as x = \"GATTTACCAGATTGAG\", and for y = reads, that the minimum number of changes required to match the two strings, x and y, is 2. \n",
    "\n",
    "                \n",
    " "
   ]
  },
  {
   "cell_type": "code",
   "execution_count": 1,
   "id": "2ef1fcd6",
   "metadata": {},
   "outputs": [],
   "source": [
    "from Py.geneReader_Q import geneReader_Q\n",
    "\n",
    "from collections import defaultdict\n",
    "\n",
    "from Py.overlap import overlap"
   ]
  },
  {
   "cell_type": "code",
   "execution_count": 3,
   "id": "b55b11b3",
   "metadata": {},
   "outputs": [
    {
     "data": {
      "text/plain": [
       "\u001b[1;31mType:\u001b[0m        list\n",
       "\u001b[1;31mString form:\u001b[0m ['TAAACAAGCAGTAGTAATTCCTGCTTTATCAAGATAATTTTTCGACTCATCAGAAATATCCGAAAGTGTTAACTTCTGCGTCATGGAAGCGATAA <...> GGCCTCTATTAAGCTCATTCAGGCTTCTGCCGTTTTGGATTTAACCGAAGATGATTTCGATTTTCTGACTAGTAACAAAGTTTGGATTGCTACTG']\n",
       "\u001b[1;31mLength:\u001b[0m      10000\n",
       "\u001b[1;31mDocstring:\u001b[0m  \n",
       "Built-in mutable sequence.\n",
       "\n",
       "If no argument is given, the constructor creates a new empty list.\n",
       "The argument must be an iterable if specified."
      ]
     },
     "metadata": {},
     "output_type": "display_data"
    }
   ],
   "source": [
    "filename = 'SeqFiles/ERR266411_1.for_asm.fastq'\n",
    "\n",
    "reads = geneReader_Q ( filename )\n",
    "\n",
    "?reads"
   ]
  },
  {
   "cell_type": "code",
   "execution_count": 4,
   "id": "a1fed844",
   "metadata": {},
   "outputs": [],
   "source": [
    "# Starting with an empty set object, we will then add every k-mer association to it\n",
    "\n",
    "def kmerExtract ( read, k ) :\n",
    "\n",
    "    setObj = set ()\n",
    "\n",
    "    for i in range ( 0, len ( read ) - k + 1 ) :\n",
    "\n",
    "        # We use the add method because we are dealing with a set, \n",
    "        # not a list.\n",
    "\n",
    "        setObj.add ( read [ i : i + k ] )\n",
    "    \n",
    "    return setObj"
   ]
  },
  {
   "cell_type": "code",
   "execution_count": 5,
   "id": "9355a504",
   "metadata": {},
   "outputs": [
    {
     "data": {
      "text/plain": [
       "\u001b[1;31mType:\u001b[0m        defaultdict\n",
       "\u001b[1;31mString form:\u001b[0m defaultdict(<class 'set'>, {'TAAACAAGCAGTAGTAATTCCTGCTTTATC': {'GCGCAAGGATAGGTCGAATTTTCTCATTTTCCG <...> ACGCGAACAATTCAGCGGCTTTAACCGGACGGTCGGCCCCGATAATAATGATTGCCGTAAATTCAGGGCTTTCCAGGATTAGGCAGGCCGTTT'}})\n",
       "\u001b[1;31mLength:\u001b[0m      108344\n",
       "\u001b[1;31mFile:\u001b[0m        c:\\users\\ecmos\\anaconda3\\lib\\collections\\__init__.py\n",
       "\u001b[1;31mDocstring:\u001b[0m  \n",
       "defaultdict(default_factory[, ...]) --> dict with default factory\n",
       "\n",
       "The default factory is called without arguments to produce\n",
       "a new value when a key is not present, in __getitem__ only.\n",
       "A defaultdict compares equal to a dict with the same items.\n",
       "All remaining arguments are treated the same as if they were\n",
       "passed to the dict constructor, including keyword arguments."
      ]
     },
     "metadata": {},
     "output_type": "display_data"
    }
   ],
   "source": [
    "kmerDict = defaultdict ( set )\n",
    "\n",
    "k = 30\n",
    "\n",
    "for read in reads : \n",
    "    \n",
    "    for i in range ( 0, len ( read ) - k + 1 ) :\n",
    "        \n",
    "        kmerDict [ read [ i : i + k ] ] . add ( read )\n",
    "        \n",
    "?kmerDict        "
   ]
  },
  {
   "cell_type": "code",
   "execution_count": 6,
   "id": "71c78027",
   "metadata": {},
   "outputs": [
    {
     "name": "stdout",
     "output_type": "stream",
     "text": [
      "CPU times: total: 1.72 s\n",
      "Wall time: 1.73 s\n"
     ]
    },
    {
     "data": {
      "text/plain": [
       "\u001b[1;31mType:\u001b[0m        defaultdict\n",
       "\u001b[1;31mString form:\u001b[0m defaultdict(<class 'set'>, {'TAAACAAGCAGTAGTAATTCCTGCTTTATCAAGATAATTTTTCGACTCATCAGAAATATCCGAAAGTG <...> TTCTGCCGTTTTGGATTTAACCGAAGATGATTTCGATTTTCTGACTAGTAACAAAGTTTGGATTGCTACTGACCGCTCTCGTGCTCGTCGCTG'}})\n",
       "\u001b[1;31mLength:\u001b[0m      7161\n",
       "\u001b[1;31mFile:\u001b[0m        c:\\users\\ecmos\\anaconda3\\lib\\collections\\__init__.py\n",
       "\u001b[1;31mDocstring:\u001b[0m  \n",
       "defaultdict(default_factory[, ...]) --> dict with default factory\n",
       "\n",
       "The default factory is called without arguments to produce\n",
       "a new value when a key is not present, in __getitem__ only.\n",
       "A defaultdict compares equal to a dict with the same items.\n",
       "All remaining arguments are treated the same as if they were\n",
       "passed to the dict constructor, including keyword arguments."
      ]
     },
     "metadata": {},
     "output_type": "display_data"
    }
   ],
   "source": [
    "%%time\n",
    "\n",
    "k = 30\n",
    "\n",
    "nodeSets = defaultdict ( set )\n",
    "\n",
    "for a in reads : \n",
    "    \n",
    "    asfx = a [ - k : ]\n",
    "    \n",
    "    for b in kmerDict [ a [ - k : ] ] :\n",
    "        \n",
    "        if ( b != a and overlap ( a, b, k ) ) :\n",
    "\n",
    "            nodeSets [ a ] . add ( b )\n",
    "        \n",
    "len ( nodeSets )\n",
    "\n",
    "#refers to reads with at least one overlap with another read\n",
    "?nodeSets"
   ]
  },
  {
   "cell_type": "code",
   "execution_count": 9,
   "id": "203899fd",
   "metadata": {},
   "outputs": [
    {
     "name": "stdout",
     "output_type": "stream",
     "text": [
      "CPU times: total: 2.38 s\n",
      "Wall time: 2.43 s\n"
     ]
    },
    {
     "data": {
      "text/plain": [
       "\u001b[1;31mType:\u001b[0m        list\n",
       "\u001b[1;31mString form:\u001b[0m [('TAAACAAGCAGTAGTAATTCCTGCTTTATCAAGATAATTTTTCGACTCATCAGAAATATCCGAAAGTGTTAACTTCTGCGTCATGGAAGCGATA <...> CTTCTGCCGTTTTGGATTTAACCGAAGATGATTTCGATTTTCTGACTAGTAACAAAGTTTGGATTGCTACTGACCGCTCTCGTGCTCGTCGCTG')]\n",
       "\u001b[1;31mLength:\u001b[0m      904746\n",
       "\u001b[1;31mDocstring:\u001b[0m  \n",
       "Built-in mutable sequence.\n",
       "\n",
       "If no argument is given, the constructor creates a new empty list.\n",
       "The argument must be an iterable if specified."
      ]
     },
     "metadata": {},
     "output_type": "display_data"
    }
   ],
   "source": [
    "%%time\n",
    "        \n",
    "\"\"\"\n",
    "\n",
    "After all reads containing a uniquely specific kmer key are now \n",
    "represented in a dictionary of sets, we can then run through \n",
    "all of the reads more quickly by just querying the length-k\n",
    "kmer which contains all values (or entire sequence reads).\n",
    "\n",
    "If we were checking one by one, every kmer key, the runtime would be extremely long.\n",
    "\n",
    "For the current read in the list of reads, we pull the length-k \n",
    "suffix from the read.\n",
    "\n",
    "Every key is unique, so that specific k-mer has all the reads we need.\n",
    "We would then have to cycle one by one, through only that set to append the full length \n",
    "sequence reads to the \"pairs\" list.\n",
    "\n",
    "\n",
    "\"\"\"\n",
    "\n",
    "k = 30\n",
    "\n",
    "pairs = [ ]\n",
    "\n",
    "for a in reads : \n",
    "    \n",
    "    asfx = a [ - k : ]\n",
    "    \n",
    "    for b in kmerDict [ asfx ] :\n",
    "                        \n",
    "        if ( b != a ) : \n",
    "            \n",
    "            olen = overlap ( a, b, k )\n",
    "\n",
    "            if ( olen >= k ) :\n",
    "\n",
    "                pairs.append ( ( a, b ) )\n",
    "                \n",
    "?pairs"
   ]
  },
  {
   "cell_type": "code",
   "execution_count": null,
   "id": "1b3c94b0",
   "metadata": {},
   "outputs": [],
   "source": []
  }
 ],
 "metadata": {
  "kernelspec": {
   "display_name": "Python 3 (Spyder)",
   "language": "python3",
   "name": "python3"
  },
  "language_info": {
   "codemirror_mode": {
    "name": "ipython",
    "version": 3
   },
   "file_extension": ".py",
   "mimetype": "text/x-python",
   "name": "python",
   "nbconvert_exporter": "python",
   "pygments_lexer": "ipython3",
   "version": "3.10.9"
  }
 },
 "nbformat": 4,
 "nbformat_minor": 5
}
